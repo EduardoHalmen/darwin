{
 "cells": [
  {
   "cell_type": "code",
   "execution_count": 2,
   "metadata": {},
   "outputs": [
    {
     "data": {
      "text/html": [
       "<div>\n",
       "<style scoped>\n",
       "    .dataframe tbody tr th:only-of-type {\n",
       "        vertical-align: middle;\n",
       "    }\n",
       "\n",
       "    .dataframe tbody tr th {\n",
       "        vertical-align: top;\n",
       "    }\n",
       "\n",
       "    .dataframe thead th {\n",
       "        text-align: right;\n",
       "    }\n",
       "</style>\n",
       "<table border=\"1\" class=\"dataframe\">\n",
       "  <thead>\n",
       "    <tr style=\"text-align: right;\">\n",
       "      <th></th>\n",
       "      <th>air_time1</th>\n",
       "      <th>disp_index1</th>\n",
       "      <th>gmrt_in_air1</th>\n",
       "      <th>gmrt_on_paper1</th>\n",
       "      <th>max_x_extension1</th>\n",
       "      <th>max_y_extension1</th>\n",
       "      <th>mean_acc_in_air1</th>\n",
       "      <th>mean_acc_on_paper1</th>\n",
       "      <th>mean_gmrt1</th>\n",
       "      <th>mean_jerk_in_air1</th>\n",
       "      <th>...</th>\n",
       "      <th>mean_jerk_in_air25</th>\n",
       "      <th>mean_jerk_on_paper25</th>\n",
       "      <th>mean_speed_in_air25</th>\n",
       "      <th>mean_speed_on_paper25</th>\n",
       "      <th>num_of_pendown25</th>\n",
       "      <th>paper_time25</th>\n",
       "      <th>pressure_mean25</th>\n",
       "      <th>pressure_var25</th>\n",
       "      <th>total_time25</th>\n",
       "      <th>class</th>\n",
       "    </tr>\n",
       "    <tr>\n",
       "      <th>ID</th>\n",
       "      <th></th>\n",
       "      <th></th>\n",
       "      <th></th>\n",
       "      <th></th>\n",
       "      <th></th>\n",
       "      <th></th>\n",
       "      <th></th>\n",
       "      <th></th>\n",
       "      <th></th>\n",
       "      <th></th>\n",
       "      <th></th>\n",
       "      <th></th>\n",
       "      <th></th>\n",
       "      <th></th>\n",
       "      <th></th>\n",
       "      <th></th>\n",
       "      <th></th>\n",
       "      <th></th>\n",
       "      <th></th>\n",
       "      <th></th>\n",
       "      <th></th>\n",
       "    </tr>\n",
       "  </thead>\n",
       "  <tbody>\n",
       "    <tr>\n",
       "      <th>id_1</th>\n",
       "      <td>5160</td>\n",
       "      <td>0.000013</td>\n",
       "      <td>120.804174</td>\n",
       "      <td>86.853334</td>\n",
       "      <td>957</td>\n",
       "      <td>6601</td>\n",
       "      <td>0.361800</td>\n",
       "      <td>0.217459</td>\n",
       "      <td>103.828754</td>\n",
       "      <td>0.051836</td>\n",
       "      <td>...</td>\n",
       "      <td>0.141434</td>\n",
       "      <td>0.024471</td>\n",
       "      <td>5.596487</td>\n",
       "      <td>3.184589</td>\n",
       "      <td>71</td>\n",
       "      <td>40120</td>\n",
       "      <td>1749.278166</td>\n",
       "      <td>296102.7676</td>\n",
       "      <td>144605</td>\n",
       "      <td>P</td>\n",
       "    </tr>\n",
       "    <tr>\n",
       "      <th>id_2</th>\n",
       "      <td>51980</td>\n",
       "      <td>0.000016</td>\n",
       "      <td>115.318238</td>\n",
       "      <td>83.448681</td>\n",
       "      <td>1694</td>\n",
       "      <td>6998</td>\n",
       "      <td>0.272513</td>\n",
       "      <td>0.144880</td>\n",
       "      <td>99.383459</td>\n",
       "      <td>0.039827</td>\n",
       "      <td>...</td>\n",
       "      <td>0.049663</td>\n",
       "      <td>0.018368</td>\n",
       "      <td>1.665973</td>\n",
       "      <td>0.950249</td>\n",
       "      <td>129</td>\n",
       "      <td>126700</td>\n",
       "      <td>1504.768272</td>\n",
       "      <td>278744.2850</td>\n",
       "      <td>298640</td>\n",
       "      <td>P</td>\n",
       "    </tr>\n",
       "    <tr>\n",
       "      <th>id_3</th>\n",
       "      <td>2600</td>\n",
       "      <td>0.000010</td>\n",
       "      <td>229.933997</td>\n",
       "      <td>172.761858</td>\n",
       "      <td>2333</td>\n",
       "      <td>5802</td>\n",
       "      <td>0.387020</td>\n",
       "      <td>0.181342</td>\n",
       "      <td>201.347928</td>\n",
       "      <td>0.064220</td>\n",
       "      <td>...</td>\n",
       "      <td>0.178194</td>\n",
       "      <td>0.017174</td>\n",
       "      <td>4.000781</td>\n",
       "      <td>2.392521</td>\n",
       "      <td>74</td>\n",
       "      <td>45480</td>\n",
       "      <td>1431.443492</td>\n",
       "      <td>144411.7055</td>\n",
       "      <td>79025</td>\n",
       "      <td>P</td>\n",
       "    </tr>\n",
       "    <tr>\n",
       "      <th>id_4</th>\n",
       "      <td>2130</td>\n",
       "      <td>0.000010</td>\n",
       "      <td>369.403342</td>\n",
       "      <td>183.193104</td>\n",
       "      <td>1756</td>\n",
       "      <td>8159</td>\n",
       "      <td>0.556879</td>\n",
       "      <td>0.164502</td>\n",
       "      <td>276.298223</td>\n",
       "      <td>0.090408</td>\n",
       "      <td>...</td>\n",
       "      <td>0.113905</td>\n",
       "      <td>0.019860</td>\n",
       "      <td>4.206746</td>\n",
       "      <td>1.613522</td>\n",
       "      <td>123</td>\n",
       "      <td>67945</td>\n",
       "      <td>1465.843329</td>\n",
       "      <td>230184.7154</td>\n",
       "      <td>181220</td>\n",
       "      <td>P</td>\n",
       "    </tr>\n",
       "    <tr>\n",
       "      <th>id_5</th>\n",
       "      <td>2310</td>\n",
       "      <td>0.000007</td>\n",
       "      <td>257.997131</td>\n",
       "      <td>111.275889</td>\n",
       "      <td>987</td>\n",
       "      <td>4732</td>\n",
       "      <td>0.266077</td>\n",
       "      <td>0.145104</td>\n",
       "      <td>184.636510</td>\n",
       "      <td>0.037528</td>\n",
       "      <td>...</td>\n",
       "      <td>0.121782</td>\n",
       "      <td>0.020872</td>\n",
       "      <td>3.319036</td>\n",
       "      <td>1.680629</td>\n",
       "      <td>92</td>\n",
       "      <td>37285</td>\n",
       "      <td>1841.702561</td>\n",
       "      <td>158290.0255</td>\n",
       "      <td>72575</td>\n",
       "      <td>P</td>\n",
       "    </tr>\n",
       "  </tbody>\n",
       "</table>\n",
       "<p>5 rows × 451 columns</p>\n",
       "</div>"
      ],
      "text/plain": [
       "      air_time1  disp_index1  gmrt_in_air1  gmrt_on_paper1  max_x_extension1  \\\n",
       "ID                                                                             \n",
       "id_1       5160     0.000013    120.804174       86.853334               957   \n",
       "id_2      51980     0.000016    115.318238       83.448681              1694   \n",
       "id_3       2600     0.000010    229.933997      172.761858              2333   \n",
       "id_4       2130     0.000010    369.403342      183.193104              1756   \n",
       "id_5       2310     0.000007    257.997131      111.275889               987   \n",
       "\n",
       "      max_y_extension1  mean_acc_in_air1  mean_acc_on_paper1  mean_gmrt1  \\\n",
       "ID                                                                         \n",
       "id_1              6601          0.361800            0.217459  103.828754   \n",
       "id_2              6998          0.272513            0.144880   99.383459   \n",
       "id_3              5802          0.387020            0.181342  201.347928   \n",
       "id_4              8159          0.556879            0.164502  276.298223   \n",
       "id_5              4732          0.266077            0.145104  184.636510   \n",
       "\n",
       "      mean_jerk_in_air1  ...  mean_jerk_in_air25  mean_jerk_on_paper25  \\\n",
       "ID                       ...                                             \n",
       "id_1           0.051836  ...            0.141434              0.024471   \n",
       "id_2           0.039827  ...            0.049663              0.018368   \n",
       "id_3           0.064220  ...            0.178194              0.017174   \n",
       "id_4           0.090408  ...            0.113905              0.019860   \n",
       "id_5           0.037528  ...            0.121782              0.020872   \n",
       "\n",
       "      mean_speed_in_air25  mean_speed_on_paper25  num_of_pendown25  \\\n",
       "ID                                                                   \n",
       "id_1             5.596487               3.184589                71   \n",
       "id_2             1.665973               0.950249               129   \n",
       "id_3             4.000781               2.392521                74   \n",
       "id_4             4.206746               1.613522               123   \n",
       "id_5             3.319036               1.680629                92   \n",
       "\n",
       "      paper_time25  pressure_mean25  pressure_var25  total_time25  class  \n",
       "ID                                                                        \n",
       "id_1         40120      1749.278166     296102.7676        144605      P  \n",
       "id_2        126700      1504.768272     278744.2850        298640      P  \n",
       "id_3         45480      1431.443492     144411.7055         79025      P  \n",
       "id_4         67945      1465.843329     230184.7154        181220      P  \n",
       "id_5         37285      1841.702561     158290.0255         72575      P  \n",
       "\n",
       "[5 rows x 451 columns]"
      ]
     },
     "execution_count": 2,
     "metadata": {},
     "output_type": "execute_result"
    }
   ],
   "source": [
    "import pandas as pd\n",
    "\n",
    "data = pd.read_csv('data.csv', index_col = 'ID')\n",
    "data['class'] = data['class'].astype('category')\n",
    "data.head()"
   ]
  },
  {
   "cell_type": "code",
   "execution_count": 3,
   "metadata": {},
   "outputs": [
    {
     "name": "stdout",
     "output_type": "stream",
     "text": [
      "X shape: (174, 450)\n",
      "y shape: (174,)\n"
     ]
    }
   ],
   "source": [
    "from sklearn.model_selection import train_test_split\n",
    "from sklearn.preprocessing import MinMaxScaler, StandardScaler, Normalizer, LabelEncoder\n",
    "\n",
    "X = data.drop('class', axis=1)\n",
    "X_scaled = StandardScaler().fit_transform(X)\n",
    "\n",
    "y = LabelEncoder().fit_transform(data['class'])\n",
    "\n",
    "print(f\"X shape: {X.shape}\")\n",
    "print(f\"y shape: {y.shape}\")"
   ]
  },
  {
   "cell_type": "code",
   "execution_count": null,
   "metadata": {},
   "outputs": [],
   "source": []
  },
  {
   "cell_type": "code",
   "execution_count": 3,
   "metadata": {},
   "outputs": [
    {
     "data": {
      "text/plain": [
       "<matplotlib.legend.Legend at 0x177645c60>"
      ]
     },
     "execution_count": 3,
     "metadata": {},
     "output_type": "execute_result"
    },
    {
     "data": {
      "image/png": "[encoded data removed]",
      "text/plain": [
       "<Figure size 1000x1000 with 1 Axes>"
      ]
     },
     "metadata": {},
     "output_type": "display_data"
    }
   ],
   "source": [
    "from sklearn.decomposition import PCA\n",
    "import matplotlib.pyplot as plt\n",
    "\n",
    "pca = PCA()\n",
    "x_pca = pca.fit_transform(X_scaled)\n",
    "markers=['o','x']\n",
    "# plot in 2D by class\n",
    "plt.figure(figsize=(10,10))\n",
    "for i,marker in enumerate(markers):\n",
    "    mask = y == i\n",
    "    plt.scatter(x_pca[mask, 0], x_pca[mask, 1], label=i, s=10, alpha=1,marker=marker)\n",
    "plt.legend(bbox_to_anchor=(1.00, 1), loc='upper left',fontsize=15)"
   ]
  },
  {
   "cell_type": "code",
   "execution_count": 21,
   "metadata": {},
   "outputs": [
    {
     "data": {
      "text/plain": [
       "<matplotlib.legend.Legend at 0x34109c250>"
      ]
     },
     "execution_count": 21,
     "metadata": {},
     "output_type": "execute_result"
    },
    {
     "data": {
      "image/png": "[encoded data removed]",
      "text/plain": [
       "<Figure size 1000x1000 with 1 Axes>"
      ]
     },
     "metadata": {},
     "output_type": "display_data"
    }
   ],
   "source": [
    "from sklearn.manifold import TSNE\n",
    "\n",
    "tsne = TSNE(n_components=2)\n",
    "x_tsne = tsne.fit_transform(X_scaled)\n",
    "\n",
    "plt.figure(figsize=(10,10))\n",
    "for i,marker in enumerate(markers):\n",
    "    mask = y == i\n",
    "    plt.scatter(x_tsne[mask, 0], x_tsne[mask, 1], label=i, s=10, alpha=1,marker=marker)\n",
    "plt.legend(bbox_to_anchor=(1.00, 1), loc='upper left',fontsize=15)"
   ]
  },
  {
   "cell_type": "code",
   "execution_count": 22,
   "metadata": {},
   "outputs": [
    {
     "name": "stderr",
     "output_type": "stream",
     "text": [
      "/Users/eduardoduarte/miniconda3/envs/darwin/lib/python3.10/site-packages/sklearn/utils/deprecation.py:151: FutureWarning: 'force_all_finite' was renamed to 'ensure_all_finite' in 1.6 and will be removed in 1.8.\n",
      "  warnings.warn(\n"
     ]
    },
    {
     "data": {
      "text/plain": [
       "<matplotlib.legend.Legend at 0x31732a3b0>"
      ]
     },
     "execution_count": 22,
     "metadata": {},
     "output_type": "execute_result"
    },
    {
     "data": {
      "image/png": "[encoded data removed]",
      "text/plain": [
       "<Figure size 1000x1000 with 1 Axes>"
      ]
     },
     "metadata": {},
     "output_type": "display_data"
    }
   ],
   "source": [
    "import umap\n",
    "\n",
    "um = umap.UMAP()\n",
    "x_umap = um.fit_transform(X_scaled)\n",
    "\n",
    "plt.figure(figsize=(10,10))\n",
    "for i,marker in enumerate(markers):\n",
    "    mask = y == i\n",
    "    plt.scatter(x_umap[mask, 0], x_umap[mask, 1], label=i, s=10, alpha=1,marker=marker)\n",
    "plt.legend(bbox_to_anchor=(1.00, 1), loc='upper left',fontsize=15)"
   ]
  },
  {
   "cell_type": "code",
   "execution_count": 4,
   "metadata": {},
   "outputs": [
    {
     "name": "stderr",
     "output_type": "stream",
     "text": [
      "/Users/eduardoduarte/miniconda3/envs/darwin/lib/python3.10/site-packages/sklearn/utils/deprecation.py:151: FutureWarning: 'force_all_finite' was renamed to 'ensure_all_finite' in 1.6 and will be removed in 1.8.\n",
      "  warnings.warn(\n",
      "/Users/eduardoduarte/miniconda3/envs/darwin/lib/python3.10/site-packages/umap/umap_.py:1943: UserWarning: n_jobs value -1 overridden to 1 by setting random_state. Use no seed for parallelism.\n",
      "  warn(f\"n_jobs value {self.n_jobs} overridden to 1 by setting random_state. Use no seed for parallelism.\")\n"
     ]
    },
    {
     "name": "stdout",
     "output_type": "stream",
     "text": [
      "<class 'numpy.ndarray'>\n"
     ]
    },
    {
     "data": {
      "application/vnd.plotly.v1+json": {
       "config": {
        "plotlyServerURL": "https://plot.ly"
       },
       "data": [
        {
         "hovertemplate": "0=%{x}<br>1=%{y}<br>2=%{z}<br>class=%{marker.color}<extra></extra>",
         "legendgroup": "",
         "marker": {
          "color": [
           1,
           1,
           1,
           1,
           1,
           1,
           1,
           1,
           1,
           1,
           1,
           1,
           1,
           1,
           1,
           1,
           1,
           1,
           1,
           1,
           1,
           1,
           1,
           1,
           1,
           1,
           1,
           1,
           1,
           1,
           1,
           1,
           1,
           1,
           1,
           1,
           1,
           1,
           1,
           1,
           1,
           1,
           1,
           1,
           1,
           1,
           1,
           1,
           1,
           1,
           1,
           1,
           1,
           1,
           1,
           1,
           1,
           1,
           1,
           1,
           1,
           1,
           1,
           1,
           1,
           1,
           1,
           1,
           1,
           1,
           1,
           1,
           1,
           1,
           1,
           1,
           1,
           1,
           1,
           1,
           1,
           1,
           1,
           1,
           1,
           1,
           1,
           1,
           1,
           0,
           0,
           0,
           0,
           0,
           0,
           0,
           0,
           0,
           0,
           0,
           0,
           0,
           0,
           0,
           0,
           0,
           0,
           0,
           0,
           0,
           0,
           0,
           0,
           0,
           0,
           0,
           0,
           0,
           0,
           0,
           0,
           0,
           0,
           0,
           0,
           0,
           0,
           0,
           0,
           0,
           0,
           0,
           0,
           0,
           0,
           0,
           0,
           0,
           0,
           0,
           0,
           0,
           0,
           0,
           0,
           0,
           0,
           0,
           0,
           0,
           0,
           0,
           0,
           0,
           0,
           0,
           0,
           0,
           0,
           0,
           0,
           0,
           0,
           0,
           0,
           0,
           0,
           0,
           0,
           0,
           0,
           0,
           0,
           0
          ],
          "coloraxis": "coloraxis",
          "size": 1,
          "symbol": "circle"
         },
         "mode": "markers",
         "name": "",
         "scene": "scene",
         "showlegend": false,
         "type": "scatter3d",
         "x": [
          3.0013973712921143,
          3.8223369121551514,
          3.384127140045166,
          3.45542049407959,
          3.3017492294311523,
          4.017783164978027,
          4.446193218231201,
          3.283263921737671,
          3.9847357273101807,
          4.46052885055542,
          3.8454997539520264,
          4.116415977478027,
          4.403656005859375,
          4.057602882385254,
          4.093871116638184,
          3.569257974624634,
          4.454086780548096,
          4.000645637512207,
          3.455645799636841,
          3.8577449321746826,
          4.08870267868042,
          4.059695243835449,
          3.1398792266845703,
          3.3821322917938232,
          4.641582012176514,
          3.8883392810821533,
          4.50386381149292,
          4.217617988586426,
          3.7459278106689453,
          2.9600110054016113,
          3.865933418273926,
          4.776755332946777,
          4.207276344299316,
          4.063567638397217,
          3.0283305644989014,
          2.864621639251709,
          3.120046377182007,
          4.137577533721924,
          3.347186326980591,
          3.059937000274658,
          3.8273160457611084,
          4.012485504150391,
          4.195352077484131,
          4.764706134796143,
          4.067878723144531,
          4.710002899169922,
          3.157386541366577,
          3.4754393100738525,
          4.727100849151611,
          4.072218418121338,
          3.3794333934783936,
          4.167599678039551,
          4.336253643035889,
          3.8824243545532227,
          3.5305941104888916,
          3.4254021644592285,
          4.235945701599121,
          3.827746629714966,
          3.6437273025512695,
          4.503939628601074,
          4.544700622558594,
          4.753037929534912,
          3.8504526615142822,
          4.6369147300720215,
          3.884643316268921,
          4.440374374389648,
          3.198972463607788,
          4.597586154937744,
          4.69398832321167,
          4.73922061920166,
          3.9613678455352783,
          4.584044456481934,
          3.100858688354492,
          3.8742072582244873,
          3.7482802867889404,
          2.9716906547546387,
          3.53181529045105,
          3.4082696437835693,
          2.934236764907837,
          3.0505752563476562,
          2.6134116649627686,
          2.9192330837249756,
          2.844459056854248,
          2.8068997859954834,
          2.964578628540039,
          2.7306931018829346,
          2.795417547225952,
          2.712193250656128,
          2.7067575454711914,
          3.2050790786743164,
          3.8392386436462402,
          5.013214111328125,
          3.2326557636260986,
          3.3880176544189453,
          4.535397052764893,
          3.0703656673431396,
          2.653287887573242,
          4.3156938552856445,
          3.573849678039551,
          3.349278450012207,
          2.814270257949829,
          4.727066516876221,
          4.121395111083984,
          2.9161500930786133,
          3.3010919094085693,
          4.788645267486572,
          4.7596564292907715,
          4.046128749847412,
          4.26151704788208,
          3.419621706008911,
          3.703247308731079,
          3.119091272354126,
          2.8061652183532715,
          3.941617012023926,
          3.633289098739624,
          3.591864585876465,
          3.456862688064575,
          3.375871181488037,
          3.274594306945801,
          3.816699743270874,
          3.2502379417419434,
          3.431840419769287,
          4.825947284698486,
          3.1069982051849365,
          4.300248622894287,
          4.267128944396973,
          2.825958251953125,
          3.5934948921203613,
          3.0870046615600586,
          2.980081796646118,
          3.878199815750122,
          2.9517815113067627,
          4.832960605621338,
          3.6840972900390625,
          4.672211647033691,
          3.644605875015259,
          3.063660144805908,
          3.210101366043091,
          4.493099689483643,
          3.467033624649048,
          2.5846307277679443,
          3.1940383911132812,
          2.7983949184417725,
          3.9205687046051025,
          4.628295421600342,
          3.2497801780700684,
          3.902888059616089,
          3.2306365966796875,
          3.7476794719696045,
          2.854004383087158,
          4.271071910858154,
          3.586195468902588,
          3.9112911224365234,
          4.129735469818115,
          3.7931361198425293,
          3.9069511890411377,
          3.5007710456848145,
          3.447754383087158,
          3.955751657485962,
          4.61118221282959,
          4.336247444152832,
          4.28833532333374,
          4.85696268081665,
          4.313004970550537,
          4.386258125305176,
          4.752400875091553,
          4.25223970413208,
          3.9862706661224365,
          3.447472095489502,
          4.515871524810791,
          4.066671371459961,
          3.9488790035247803,
          4.011837959289551,
          3.9545586109161377
         ],
         "y": [
          5.975234031677246,
          7.1469035148620605,
          6.655333518981934,
          7.375430107116699,
          6.798843860626221,
          7.442412376403809,
          5.353958606719971,
          6.48100471496582,
          6.903395175933838,
          7.368731498718262,
          7.704303741455078,
          7.903236389160156,
          7.435035228729248,
          7.137763023376465,
          7.776159286499023,
          8.009784698486328,
          7.418232440948486,
          8.156805992126465,
          7.606691360473633,
          7.164750099182129,
          8.251450538635254,
          7.751603603363037,
          7.461451530456543,
          7.729031562805176,
          6.6139326095581055,
          6.9259819984436035,
          7.184326648712158,
          7.89843225479126,
          7.76861047744751,
          7.21808385848999,
          7.733948707580566,
          6.9759392738342285,
          6.249822616577148,
          7.09029483795166,
          7.834686279296875,
          6.818899154663086,
          7.181219577789307,
          6.8389973640441895,
          7.796721935272217,
          6.961241245269775,
          5.51201868057251,
          6.189830780029297,
          7.151038646697998,
          5.631938457489014,
          6.856033802032471,
          7.098536968231201,
          6.272016525268555,
          6.91574239730835,
          6.782901763916016,
          7.231886386871338,
          7.241086006164551,
          7.925478935241699,
          8.339570045471191,
          7.63322639465332,
          7.145802974700928,
          7.246903419494629,
          8.32612133026123,
          8.276180267333984,
          8.092337608337402,
          6.754454135894775,
          6.681569576263428,
          5.370418071746826,
          6.062807559967041,
          5.699552536010742,
          6.465152740478516,
          8.307385444641113,
          6.221619606018066,
          6.466213703155518,
          6.379752159118652,
          6.786886692047119,
          6.2962260246276855,
          7.6672682762146,
          6.874404430389404,
          7.958613872528076,
          6.834583282470703,
          6.707179546356201,
          6.228150367736816,
          6.9079508781433105,
          7.335315227508545,
          6.99253511428833,
          8.140616416931152,
          8.011165618896484,
          8.101344108581543,
          8.04810905456543,
          7.82982873916626,
          8.073250770568848,
          7.975671291351318,
          7.864534378051758,
          7.913592338562012,
          6.016971588134766,
          6.80751371383667,
          6.441595554351807,
          6.494536399841309,
          6.522895812988281,
          5.8882293701171875,
          6.080878257751465,
          7.213680744171143,
          5.968473434448242,
          5.8605217933654785,
          6.17115592956543,
          7.337745189666748,
          5.7087016105651855,
          5.366043567657471,
          6.672468662261963,
          6.547839641571045,
          6.155412673950195,
          5.610441207885742,
          7.371981620788574,
          7.187205791473389,
          6.642276287078857,
          6.2338385581970215,
          6.316986560821533,
          7.130719184875488,
          6.291199207305908,
          5.524440765380859,
          6.025331020355225,
          6.502419948577881,
          5.978058815002441,
          5.861480236053467,
          6.408779621124268,
          6.812568187713623,
          6.5920586585998535,
          5.9946160316467285,
          6.018895626068115,
          7.011280059814453,
          5.80997896194458,
          6.129068374633789,
          6.453637599945068,
          6.33398962020874,
          7.018750190734863,
          6.095743179321289,
          5.839514255523682,
          5.424697399139404,
          6.044220924377441,
          5.54840087890625,
          5.618279933929443,
          5.783458709716797,
          6.347998142242432,
          5.685826301574707,
          5.652500629425049,
          7.193604469299316,
          6.050644874572754,
          7.201453685760498,
          6.294349670410156,
          6.2393059730529785,
          5.717637062072754,
          5.5599212646484375,
          5.480053901672363,
          5.539196014404297,
          6.1477437019348145,
          5.186605930328369,
          7.433130741119385,
          5.805999279022217,
          5.279557704925537,
          5.496314525604248,
          7.502772808074951,
          5.930012226104736,
          7.552098274230957,
          5.490928649902344,
          7.468709468841553,
          5.819737434387207,
          7.468053340911865,
          6.269834041595459,
          7.563418388366699,
          7.261002063751221,
          5.163350582122803,
          5.216485023498535,
          5.320651531219482,
          6.038783550262451,
          5.209584712982178,
          7.6786322593688965,
          7.8815412521362305,
          7.996887683868408,
          8.04167366027832
         ],
         "z": [
          0.5850687026977539,
          -0.7566900849342346,
          1.5470963716506958,
          -0.5718303918838501,
          -0.09829030185937881,
          -0.8253927826881409,
          1.0703566074371338,
          0.9354050755500793,
          -0.4753965139389038,
          1.2924400568008423,
          -0.8287272453308105,
          -0.879491925239563,
          -0.5656932592391968,
          0.0009599855402484536,
          -0.7837435007095337,
          -0.2309841364622116,
          0.07307788729667664,
          -0.6183298230171204,
          -0.6771994829177856,
          -0.9104766249656677,
          -0.5536630749702454,
          -0.48739752173423767,
          -0.6270291209220886,
          0.59967440366745,
          0.2841133773326874,
          0.0351095087826252,
          -0.02698512189090252,
          -0.32877323031425476,
          -0.7886632680892944,
          -0.2328699827194214,
          0.14043161273002625,
          0.33382874727249146,
          0.5396268367767334,
          0.7587655186653137,
          1.060197353363037,
          0.510776162147522,
          -0.6731991171836853,
          1.6490538120269775,
          0.41824033856391907,
          0.4017206132411957,
          2.059199571609497,
          1.0277736186981201,
          0.8302253484725952,
          2.2027854919433594,
          1.147067666053772,
          0.7987380027770996,
          0.6697244644165039,
          1.708743691444397,
          0.8329960107803345,
          0.055780619382858276,
          -1.051730751991272,
          -0.9332294464111328,
          -0.2600184381008148,
          -0.3631246089935303,
          -1.0553594827651978,
          -1.0809521675109863,
          -0.17040622234344482,
          -0.0920933336019516,
          0.2851165533065796,
          -0.330994188785553,
          -0.20587295293807983,
          1.5154087543487549,
          1.2102850675582886,
          1.2263727188110352,
          2.1226303577423096,
          0.12023386359214783,
          0.13507109880447388,
          1.5414801836013794,
          0.7001316547393799,
          1.300540804862976,
          1.2775810956954956,
          0.3154599368572235,
          1.376903772354126,
          1.025199055671692,
          0.5127596855163574,
          0.8476927280426025,
          0.7381429076194763,
          0.6789911389350891,
          1.8214237689971924,
          2.1613941192626953,
          1.7746738195419312,
          1.427110195159912,
          1.608919382095337,
          1.5965594053268433,
          1.9141982793807983,
          2.0386412143707275,
          2.1583969593048096,
          2.1692843437194824,
          2.090329170227051,
          2.7763125896453857,
          0.11288489401340485,
          1.071307897567749,
          2.6452155113220215,
          1.7395249605178833,
          2.6218206882476807,
          2.7774910926818848,
          1.3796424865722656,
          2.703702926635742,
          2.7120118141174316,
          2.5829789638519287,
          2.459415912628174,
          2.3398830890655518,
          2.703977108001709,
          2.6116621494293213,
          0.40752115845680237,
          1.3146024942398071,
          1.9648916721343994,
          1.7302526235580444,
          0.4783290922641754,
          2.2155580520629883,
          1.3486816883087158,
          2.026128053665161,
          2.591625452041626,
          2.5791714191436768,
          2.6362364292144775,
          2.2706501483917236,
          2.7696399688720703,
          1.0825697183609009,
          1.0667933225631714,
          0.20858339965343475,
          1.02391517162323,
          0.7758675813674927,
          1.7381960153579712,
          2.272005081176758,
          1.6829506158828735,
          1.4758330583572388,
          0.7731025218963623,
          0.24307601153850555,
          0.0183398500084877,
          0.10618049651384354,
          0.36218583583831787,
          1.2403393983840942,
          1.9144858121871948,
          1.8524338006973267,
          2.4540224075317383,
          2.785113573074341,
          2.0426456928253174,
          2.3295183181762695,
          2.6030333042144775,
          2.495943546295166,
          1.4647908210754395,
          1.3566012382507324,
          1.1341161727905273,
          0.7781879901885986,
          1.9896775484085083,
          1.5429757833480835,
          2.681255340576172,
          1.983860731124878,
          0.9308992624282837,
          1.389755368232727,
          2.327609062194824,
          1.3217405080795288,
          2.6933062076568604,
          2.2946741580963135,
          2.596449851989746,
          0.7347960472106934,
          1.3808411359786987,
          2.036771535873413,
          1.78913414478302,
          0.4353603720664978,
          0.7751400470733643,
          0.9704104661941528,
          0.9199104905128479,
          0.6675552725791931,
          -0.45041218400001526,
          1.7178620100021362,
          1.2195990085601807,
          1.1084095239639282,
          0.6592317819595337,
          1.381789207458496,
          1.5197458267211914,
          1.4343427419662476,
          1.4733027219772339,
          1.533765435218811
         ]
        }
       ],
       "layout": {
        "coloraxis": {
         "colorbar": {
          "title": {
           "text": "class"
          }
         },
         "colorscale": [
          [
           0,
           "#0d0887"
          ],
          [
           0.1111111111111111,
           "#46039f"
          ],
          [
           0.2222222222222222,
           "#7201a8"
          ],
          [
           0.3333333333333333,
           "#9c179e"
          ],
          [
           0.4444444444444444,
           "#bd3786"
          ],
          [
           0.5555555555555556,
           "#d8576b"
          ],
          [
           0.6666666666666666,
           "#ed7953"
          ],
          [
           0.7777777777777778,
           "#fb9f3a"
          ],
          [
           0.8888888888888888,
           "#fdca26"
          ],
          [
           1,
           "#f0f921"
          ]
         ]
        },
        "legend": {
         "tracegroupgap": 0
        },
        "margin": {
         "t": 60
        },
        "scene": {
         "domain": {
          "x": [
           0,
           1
          ],
          "y": [
           0,
           1
          ]
         },
         "xaxis": {
          "title": {
           "text": "0"
          }
         },
         "yaxis": {
          "title": {
           "text": "1"
          }
         },
         "zaxis": {
          "title": {
           "text": "2"
          }
         }
        },
        "template": {
         "data": {
          "bar": [
           {
            "error_x": {
             "color": "#2a3f5f"
            },
            "error_y": {
             "color": "#2a3f5f"
            },
            "marker": {
             "line": {
              "color": "#E5ECF6",
              "width": 0.5
             },
             "pattern": {
              "fillmode": "overlay",
              "size": 10,
              "solidity": 0.2
             }
            },
            "type": "bar"
           }
          ],
          "barpolar": [
           {
            "marker": {
             "line": {
              "color": "#E5ECF6",
              "width": 0.5
             },
             "pattern": {
              "fillmode": "overlay",
              "size": 10,
              "solidity": 0.2
             }
            },
            "type": "barpolar"
           }
          ],
          "carpet": [
           {
            "aaxis": {
             "endlinecolor": "#2a3f5f",
             "gridcolor": "white",
             "linecolor": "white",
             "minorgridcolor": "white",
             "startlinecolor": "#2a3f5f"
            },
            "baxis": {
             "endlinecolor": "#2a3f5f",
             "gridcolor": "white",
             "linecolor": "white",
             "minorgridcolor": "white",
             "startlinecolor": "#2a3f5f"
            },
            "type": "carpet"
           }
          ],
          "choropleth": [
           {
            "colorbar": {
             "outlinewidth": 0,
             "ticks": ""
            },
            "type": "choropleth"
           }
          ],
          "contour": [
           {
            "colorbar": {
             "outlinewidth": 0,
             "ticks": ""
            },
            "colorscale": [
             [
              0,
              "#0d0887"
             ],
             [
              0.1111111111111111,
              "#46039f"
             ],
             [
              0.2222222222222222,
              "#7201a8"
             ],
             [
              0.3333333333333333,
              "#9c179e"
             ],
             [
              0.4444444444444444,
              "#bd3786"
             ],
             [
              0.5555555555555556,
              "#d8576b"
             ],
             [
              0.6666666666666666,
              "#ed7953"
             ],
             [
              0.7777777777777778,
              "#fb9f3a"
             ],
             [
              0.8888888888888888,
              "#fdca26"
             ],
             [
              1,
              "#f0f921"
             ]
            ],
            "type": "contour"
           }
          ],
          "contourcarpet": [
           {
            "colorbar": {
             "outlinewidth": 0,
             "ticks": ""
            },
            "type": "contourcarpet"
           }
          ],
          "heatmap": [
           {
            "colorbar": {
             "outlinewidth": 0,
             "ticks": ""
            },
            "colorscale": [
             [
              0,
              "#0d0887"
             ],
             [
              0.1111111111111111,
              "#46039f"
             ],
             [
              0.2222222222222222,
              "#7201a8"
             ],
             [
              0.3333333333333333,
              "#9c179e"
             ],
             [
              0.4444444444444444,
              "#bd3786"
             ],
             [
              0.5555555555555556,
              "#d8576b"
             ],
             [
              0.6666666666666666,
              "#ed7953"
             ],
             [
              0.7777777777777778,
              "#fb9f3a"
             ],
             [
              0.8888888888888888,
              "#fdca26"
             ],
             [
              1,
              "#f0f921"
             ]
            ],
            "type": "heatmap"
           }
          ],
          "heatmapgl": [
           {
            "colorbar": {
             "outlinewidth": 0,
             "ticks": ""
            },
            "colorscale": [
             [
              0,
              "#0d0887"
             ],
             [
              0.1111111111111111,
              "#46039f"
             ],
             [
              0.2222222222222222,
              "#7201a8"
             ],
             [
              0.3333333333333333,
              "#9c179e"
             ],
             [
              0.4444444444444444,
              "#bd3786"
             ],
             [
              0.5555555555555556,
              "#d8576b"
             ],
             [
              0.6666666666666666,
              "#ed7953"
             ],
             [
              0.7777777777777778,
              "#fb9f3a"
             ],
             [
              0.8888888888888888,
              "#fdca26"
             ],
             [
              1,
              "#f0f921"
             ]
            ],
            "type": "heatmapgl"
           }
          ],
          "histogram": [
           {
            "marker": {
             "pattern": {
              "fillmode": "overlay",
              "size": 10,
              "solidity": 0.2
             }
            },
            "type": "histogram"
           }
          ],
          "histogram2d": [
           {
            "colorbar": {
             "outlinewidth": 0,
             "ticks": ""
            },
            "colorscale": [
             [
              0,
              "#0d0887"
             ],
             [
              0.1111111111111111,
              "#46039f"
             ],
             [
              0.2222222222222222,
              "#7201a8"
             ],
             [
              0.3333333333333333,
              "#9c179e"
             ],
             [
              0.4444444444444444,
              "#bd3786"
             ],
             [
              0.5555555555555556,
              "#d8576b"
             ],
             [
              0.6666666666666666,
              "#ed7953"
             ],
             [
              0.7777777777777778,
              "#fb9f3a"
             ],
             [
              0.8888888888888888,
              "#fdca26"
             ],
             [
              1,
              "#f0f921"
             ]
            ],
            "type": "histogram2d"
           }
          ],
          "histogram2dcontour": [
           {
            "colorbar": {
             "outlinewidth": 0,
             "ticks": ""
            },
            "colorscale": [
             [
              0,
              "#0d0887"
             ],
             [
              0.1111111111111111,
              "#46039f"
             ],
             [
              0.2222222222222222,
              "#7201a8"
             ],
             [
              0.3333333333333333,
              "#9c179e"
             ],
             [
              0.4444444444444444,
              "#bd3786"
             ],
             [
              0.5555555555555556,
              "#d8576b"
             ],
             [
              0.6666666666666666,
              "#ed7953"
             ],
             [
              0.7777777777777778,
              "#fb9f3a"
             ],
             [
              0.8888888888888888,
              "#fdca26"
             ],
             [
              1,
              "#f0f921"
             ]
            ],
            "type": "histogram2dcontour"
           }
          ],
          "mesh3d": [
           {
            "colorbar": {
             "outlinewidth": 0,
             "ticks": ""
            },
            "type": "mesh3d"
           }
          ],
          "parcoords": [
           {
            "line": {
             "colorbar": {
              "outlinewidth": 0,
              "ticks": ""
             }
            },
            "type": "parcoords"
           }
          ],
          "pie": [
           {
            "automargin": true,
            "type": "pie"
           }
          ],
          "scatter": [
           {
            "fillpattern": {
             "fillmode": "overlay",
             "size": 10,
             "solidity": 0.2
            },
            "type": "scatter"
           }
          ],
          "scatter3d": [
           {
            "line": {
             "colorbar": {
              "outlinewidth": 0,
              "ticks": ""
             }
            },
            "marker": {
             "colorbar": {
              "outlinewidth": 0,
              "ticks": ""
             }
            },
            "type": "scatter3d"
           }
          ],
          "scattercarpet": [
           {
            "marker": {
             "colorbar": {
              "outlinewidth": 0,
              "ticks": ""
             }
            },
            "type": "scattercarpet"
           }
          ],
          "scattergeo": [
           {
            "marker": {
             "colorbar": {
              "outlinewidth": 0,
              "ticks": ""
             }
            },
            "type": "scattergeo"
           }
          ],
          "scattergl": [
           {
            "marker": {
             "colorbar": {
              "outlinewidth": 0,
              "ticks": ""
             }
            },
            "type": "scattergl"
           }
          ],
          "scattermapbox": [
           {
            "marker": {
             "colorbar": {
              "outlinewidth": 0,
              "ticks": ""
             }
            },
            "type": "scattermapbox"
           }
          ],
          "scatterpolar": [
           {
            "marker": {
             "colorbar": {
              "outlinewidth": 0,
              "ticks": ""
             }
            },
            "type": "scatterpolar"
           }
          ],
          "scatterpolargl": [
           {
            "marker": {
             "colorbar": {
              "outlinewidth": 0,
              "ticks": ""
             }
            },
            "type": "scatterpolargl"
           }
          ],
          "scatterternary": [
           {
            "marker": {
             "colorbar": {
              "outlinewidth": 0,
              "ticks": ""
             }
            },
            "type": "scatterternary"
           }
          ],
          "surface": [
           {
            "colorbar": {
             "outlinewidth": 0,
             "ticks": ""
            },
            "colorscale": [
             [
              0,
              "#0d0887"
             ],
             [
              0.1111111111111111,
              "#46039f"
             ],
             [
              0.2222222222222222,
              "#7201a8"
             ],
             [
              0.3333333333333333,
              "#9c179e"
             ],
             [
              0.4444444444444444,
              "#bd3786"
             ],
             [
              0.5555555555555556,
              "#d8576b"
             ],
             [
              0.6666666666666666,
              "#ed7953"
             ],
             [
              0.7777777777777778,
              "#fb9f3a"
             ],
             [
              0.8888888888888888,
              "#fdca26"
             ],
             [
              1,
              "#f0f921"
             ]
            ],
            "type": "surface"
           }
          ],
          "table": [
           {
            "cells": {
             "fill": {
              "color": "#EBF0F8"
             },
             "line": {
              "color": "white"
             }
            },
            "header": {
             "fill": {
              "color": "#C8D4E3"
             },
             "line": {
              "color": "white"
             }
            },
            "type": "table"
           }
          ]
         },
         "layout": {
          "annotationdefaults": {
           "arrowcolor": "#2a3f5f",
           "arrowhead": 0,
           "arrowwidth": 1
          },
          "autotypenumbers": "strict",
          "coloraxis": {
           "colorbar": {
            "outlinewidth": 0,
            "ticks": ""
           }
          },
          "colorscale": {
           "diverging": [
            [
             0,
             "#8e0152"
            ],
            [
             0.1,
             "#c51b7d"
            ],
            [
             0.2,
             "#de77ae"
            ],
            [
             0.3,
             "#f1b6da"
            ],
            [
             0.4,
             "#fde0ef"
            ],
            [
             0.5,
             "#f7f7f7"
            ],
            [
             0.6,
             "#e6f5d0"
            ],
            [
             0.7,
             "#b8e186"
            ],
            [
             0.8,
             "#7fbc41"
            ],
            [
             0.9,
             "#4d9221"
            ],
            [
             1,
             "#276419"
            ]
           ],
           "sequential": [
            [
             0,
             "#0d0887"
            ],
            [
             0.1111111111111111,
             "#46039f"
            ],
            [
             0.2222222222222222,
             "#7201a8"
            ],
            [
             0.3333333333333333,
             "#9c179e"
            ],
            [
             0.4444444444444444,
             "#bd3786"
            ],
            [
             0.5555555555555556,
             "#d8576b"
            ],
            [
             0.6666666666666666,
             "#ed7953"
            ],
            [
             0.7777777777777778,
             "#fb9f3a"
            ],
            [
             0.8888888888888888,
             "#fdca26"
            ],
            [
             1,
             "#f0f921"
            ]
           ],
           "sequentialminus": [
            [
             0,
             "#0d0887"
            ],
            [
             0.1111111111111111,
             "#46039f"
            ],
            [
             0.2222222222222222,
             "#7201a8"
            ],
            [
             0.3333333333333333,
             "#9c179e"
            ],
            [
             0.4444444444444444,
             "#bd3786"
            ],
            [
             0.5555555555555556,
             "#d8576b"
            ],
            [
             0.6666666666666666,
             "#ed7953"
            ],
            [
             0.7777777777777778,
             "#fb9f3a"
            ],
            [
             0.8888888888888888,
             "#fdca26"
            ],
            [
             1,
             "#f0f921"
            ]
           ]
          },
          "colorway": [
           "#636efa",
           "#EF553B",
           "#00cc96",
           "#ab63fa",
           "#FFA15A",
           "#19d3f3",
           "#FF6692",
           "#B6E880",
           "#FF97FF",
           "#FECB52"
          ],
          "font": {
           "color": "#2a3f5f"
          },
          "geo": {
           "bgcolor": "white",
           "lakecolor": "white",
           "landcolor": "#E5ECF6",
           "showlakes": true,
           "showland": true,
           "subunitcolor": "white"
          },
          "hoverlabel": {
           "align": "left"
          },
          "hovermode": "closest",
          "mapbox": {
           "style": "light"
          },
          "paper_bgcolor": "white",
          "plot_bgcolor": "#E5ECF6",
          "polar": {
           "angularaxis": {
            "gridcolor": "white",
            "linecolor": "white",
            "ticks": ""
           },
           "bgcolor": "#E5ECF6",
           "radialaxis": {
            "gridcolor": "white",
            "linecolor": "white",
            "ticks": ""
           }
          },
          "scene": {
           "xaxis": {
            "backgroundcolor": "#E5ECF6",
            "gridcolor": "white",
            "gridwidth": 2,
            "linecolor": "white",
            "showbackground": true,
            "ticks": "",
            "zerolinecolor": "white"
           },
           "yaxis": {
            "backgroundcolor": "#E5ECF6",
            "gridcolor": "white",
            "gridwidth": 2,
            "linecolor": "white",
            "showbackground": true,
            "ticks": "",
            "zerolinecolor": "white"
           },
           "zaxis": {
            "backgroundcolor": "#E5ECF6",
            "gridcolor": "white",
            "gridwidth": 2,
            "linecolor": "white",
            "showbackground": true,
            "ticks": "",
            "zerolinecolor": "white"
           }
          },
          "shapedefaults": {
           "line": {
            "color": "#2a3f5f"
           }
          },
          "ternary": {
           "aaxis": {
            "gridcolor": "white",
            "linecolor": "white",
            "ticks": ""
           },
           "baxis": {
            "gridcolor": "white",
            "linecolor": "white",
            "ticks": ""
           },
           "bgcolor": "#E5ECF6",
           "caxis": {
            "gridcolor": "white",
            "linecolor": "white",
            "ticks": ""
           }
          },
          "title": {
           "x": 0.05
          },
          "xaxis": {
           "automargin": true,
           "gridcolor": "white",
           "linecolor": "white",
           "ticks": "",
           "title": {
            "standoff": 15
           },
           "zerolinecolor": "white",
           "zerolinewidth": 2
          },
          "yaxis": {
           "automargin": true,
           "gridcolor": "white",
           "linecolor": "white",
           "ticks": "",
           "title": {
            "standoff": 15
           },
           "zerolinecolor": "white",
           "zerolinewidth": 2
          }
         }
        }
       }
      }
     },
     "metadata": {},
     "output_type": "display_data"
    }
   ],
   "source": [
    "import plotly\n",
    "import plotly.express as px\n",
    "from umap import UMAP\n",
    "\n",
    "umap_3d = UMAP(n_components=3, init='random', random_state=0)\n",
    "x_umap = umap_3d.fit_transform(X_scaled)\n",
    "umap_df = pd.DataFrame(x_umap)\n",
    "train_y_sr = pd.Series(y,name='class')\n",
    "print(type(x_umap))\n",
    "new_df = pd.concat([umap_df,train_y_sr],axis=1)\n",
    "fig = px.scatter_3d(\n",
    "    new_df, x=0, y=1, z=2,\n",
    "    color='class', labels={'color': 'number'}\n",
    ")\n",
    "fig.update_traces(marker_size=1)\n",
    "fig.show()"
   ]
  },
  {
   "cell_type": "code",
   "execution_count": 5,
   "metadata": {},
   "outputs": [
    {
     "name": "stderr",
     "output_type": "stream",
     "text": [
      "/Users/eduardoduarte/miniconda3/envs/darwin/lib/python3.10/site-packages/umap/plot.py:20: UserWarning:\n",
      "\n",
      "The umap.plot package requires extra plotting libraries to be installed.\n",
      "    You can install these via pip using\n",
      "\n",
      "    pip install umap-learn[plot]\n",
      "\n",
      "    or via conda using\n",
      "\n",
      "     conda install pandas matplotlib datashader bokeh holoviews colorcet scikit-image\n",
      "    \n",
      "\n"
     ]
    },
    {
     "ename": "ImportError",
     "evalue": "umap.plot requires pandas matplotlib datashader bokeh holoviews scikit-image and colorcet to be installed",
     "output_type": "error",
     "traceback": [
      "\u001b[0;31m---------------------------------------------------------------------------\u001b[0m",
      "\u001b[0;31mImportError\u001b[0m                               Traceback (most recent call last)",
      "Cell \u001b[0;32mIn[5], line 1\u001b[0m\n\u001b[0;32m----> 1\u001b[0m \u001b[38;5;28;01mimport\u001b[39;00m \u001b[38;5;21;01mumap\u001b[39;00m\u001b[38;5;21;01m.\u001b[39;00m\u001b[38;5;21;01mplot\u001b[39;00m\n\u001b[1;32m      2\u001b[0m mapper \u001b[38;5;241m=\u001b[39m umap\u001b[38;5;241m.\u001b[39mUMAP()\u001b[38;5;241m.\u001b[39mfit(X_scaled)\n\u001b[1;32m      3\u001b[0m umap\u001b[38;5;241m.\u001b[39mplot\u001b[38;5;241m.\u001b[39mpoints(mapper, labels\u001b[38;5;241m=\u001b[39my, theme\u001b[38;5;241m=\u001b[39m\u001b[38;5;124m'\u001b[39m\u001b[38;5;124mfire\u001b[39m\u001b[38;5;124m'\u001b[39m)\n",
      "File \u001b[0;32m~/miniconda3/envs/darwin/lib/python3.10/site-packages/umap/plot.py:31\u001b[0m\n\u001b[1;32m     19\u001b[0m \u001b[38;5;28;01mexcept\u001b[39;00m \u001b[38;5;167;01mImportError\u001b[39;00m:\n\u001b[1;32m     20\u001b[0m     warn(\n\u001b[1;32m     21\u001b[0m \u001b[38;5;250m        \u001b[39m\u001b[38;5;124;03m\"\"\"The umap.plot package requires extra plotting libraries to be installed.\u001b[39;00m\n\u001b[1;32m     22\u001b[0m \u001b[38;5;124;03m    You can install these via pip using\u001b[39;00m\n\u001b[0;32m   (...)\u001b[0m\n\u001b[1;32m     29\u001b[0m \u001b[38;5;124;03m    \"\"\"\u001b[39;00m\n\u001b[1;32m     30\u001b[0m     )\n\u001b[0;32m---> 31\u001b[0m     \u001b[38;5;28;01mraise\u001b[39;00m \u001b[38;5;167;01mImportError\u001b[39;00m(\n\u001b[1;32m     32\u001b[0m         \u001b[38;5;124m\"\u001b[39m\u001b[38;5;124mumap.plot requires pandas matplotlib datashader bokeh holoviews scikit-image and colorcet to be \u001b[39m\u001b[38;5;124m\"\u001b[39m\n\u001b[1;32m     33\u001b[0m         \u001b[38;5;124m\"\u001b[39m\u001b[38;5;124minstalled\u001b[39m\u001b[38;5;124m\"\u001b[39m\n\u001b[1;32m     34\u001b[0m     ) \u001b[38;5;28;01mfrom\u001b[39;00m \u001b[38;5;28;01mNone\u001b[39;00m\n\u001b[1;32m     36\u001b[0m \u001b[38;5;28;01mimport\u001b[39;00m \u001b[38;5;21;01msklearn\u001b[39;00m\u001b[38;5;21;01m.\u001b[39;00m\u001b[38;5;21;01mdecomposition\u001b[39;00m\n\u001b[1;32m     37\u001b[0m \u001b[38;5;28;01mimport\u001b[39;00m \u001b[38;5;21;01msklearn\u001b[39;00m\u001b[38;5;21;01m.\u001b[39;00m\u001b[38;5;21;01mcluster\u001b[39;00m\n",
      "\u001b[0;31mImportError\u001b[0m: umap.plot requires pandas matplotlib datashader bokeh holoviews scikit-image and colorcet to be installed"
     ]
    }
   ],
   "source": [
    "import umap.plot\n",
    "mapper = umap.UMAP().fit(X_scaled)\n",
    "umap.plot.points(mapper, labels=y, theme='fire')\n"
   ]
  }
 ],
 "metadata": {
  "kernelspec": {
   "display_name": "darwin",
   "language": "python",
   "name": "python3"
  },
  "language_info": {
   "codemirror_mode": {
    "name": "ipython",
    "version": 3
   },
   "file_extension": ".py",
   "mimetype": "text/x-python",
   "name": "python",
   "nbconvert_exporter": "python",
   "pygments_lexer": "ipython3",
   "version": "3.10.13"
  }
 },
 "nbformat": 4,
 "nbformat_minor": 2
}
