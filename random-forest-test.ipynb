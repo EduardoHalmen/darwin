{
 "cells": [
  {
   "cell_type": "code",
   "execution_count": 2,
   "metadata": {},
   "outputs": [],
   "source": [
    "import pandas as pd\n",
    "import numpy as np\n",
    "import matplotlib.pyplot as plt\n",
    "import seaborn as sns\n",
    "from sklearn.preprocessing import StandardScaler\n",
    "from sklearn.model_selection import train_test_split\n",
    "from sklearn.ensemble import RandomForestClassifier"
   ]
  },
  {
   "cell_type": "code",
   "execution_count": 3,
   "metadata": {},
   "outputs": [
    {
     "data": {
      "text/html": [
       "<div>\n",
       "<style scoped>\n",
       "    .dataframe tbody tr th:only-of-type {\n",
       "        vertical-align: middle;\n",
       "    }\n",
       "\n",
       "    .dataframe tbody tr th {\n",
       "        vertical-align: top;\n",
       "    }\n",
       "\n",
       "    .dataframe thead th {\n",
       "        text-align: right;\n",
       "    }\n",
       "</style>\n",
       "<table border=\"1\" class=\"dataframe\">\n",
       "  <thead>\n",
       "    <tr style=\"text-align: right;\">\n",
       "      <th></th>\n",
       "      <th>ID</th>\n",
       "      <th>air_time1</th>\n",
       "      <th>disp_index1</th>\n",
       "      <th>gmrt_in_air1</th>\n",
       "      <th>gmrt_on_paper1</th>\n",
       "      <th>max_x_extension1</th>\n",
       "      <th>max_y_extension1</th>\n",
       "      <th>mean_acc_in_air1</th>\n",
       "      <th>mean_acc_on_paper1</th>\n",
       "      <th>mean_gmrt1</th>\n",
       "      <th>...</th>\n",
       "      <th>mean_jerk_in_air25</th>\n",
       "      <th>mean_jerk_on_paper25</th>\n",
       "      <th>mean_speed_in_air25</th>\n",
       "      <th>mean_speed_on_paper25</th>\n",
       "      <th>num_of_pendown25</th>\n",
       "      <th>paper_time25</th>\n",
       "      <th>pressure_mean25</th>\n",
       "      <th>pressure_var25</th>\n",
       "      <th>total_time25</th>\n",
       "      <th>class</th>\n",
       "    </tr>\n",
       "  </thead>\n",
       "  <tbody>\n",
       "    <tr>\n",
       "      <th>0</th>\n",
       "      <td>id_1</td>\n",
       "      <td>5160</td>\n",
       "      <td>0.000013</td>\n",
       "      <td>120.804174</td>\n",
       "      <td>86.853334</td>\n",
       "      <td>957</td>\n",
       "      <td>6601</td>\n",
       "      <td>0.361800</td>\n",
       "      <td>0.217459</td>\n",
       "      <td>103.828754</td>\n",
       "      <td>...</td>\n",
       "      <td>0.141434</td>\n",
       "      <td>0.024471</td>\n",
       "      <td>5.596487</td>\n",
       "      <td>3.184589</td>\n",
       "      <td>71</td>\n",
       "      <td>40120</td>\n",
       "      <td>1749.278166</td>\n",
       "      <td>296102.7676</td>\n",
       "      <td>144605</td>\n",
       "      <td>P</td>\n",
       "    </tr>\n",
       "    <tr>\n",
       "      <th>1</th>\n",
       "      <td>id_2</td>\n",
       "      <td>51980</td>\n",
       "      <td>0.000016</td>\n",
       "      <td>115.318238</td>\n",
       "      <td>83.448681</td>\n",
       "      <td>1694</td>\n",
       "      <td>6998</td>\n",
       "      <td>0.272513</td>\n",
       "      <td>0.144880</td>\n",
       "      <td>99.383459</td>\n",
       "      <td>...</td>\n",
       "      <td>0.049663</td>\n",
       "      <td>0.018368</td>\n",
       "      <td>1.665973</td>\n",
       "      <td>0.950249</td>\n",
       "      <td>129</td>\n",
       "      <td>126700</td>\n",
       "      <td>1504.768272</td>\n",
       "      <td>278744.2850</td>\n",
       "      <td>298640</td>\n",
       "      <td>P</td>\n",
       "    </tr>\n",
       "    <tr>\n",
       "      <th>2</th>\n",
       "      <td>id_3</td>\n",
       "      <td>2600</td>\n",
       "      <td>0.000010</td>\n",
       "      <td>229.933997</td>\n",
       "      <td>172.761858</td>\n",
       "      <td>2333</td>\n",
       "      <td>5802</td>\n",
       "      <td>0.387020</td>\n",
       "      <td>0.181342</td>\n",
       "      <td>201.347928</td>\n",
       "      <td>...</td>\n",
       "      <td>0.178194</td>\n",
       "      <td>0.017174</td>\n",
       "      <td>4.000781</td>\n",
       "      <td>2.392521</td>\n",
       "      <td>74</td>\n",
       "      <td>45480</td>\n",
       "      <td>1431.443492</td>\n",
       "      <td>144411.7055</td>\n",
       "      <td>79025</td>\n",
       "      <td>P</td>\n",
       "    </tr>\n",
       "    <tr>\n",
       "      <th>3</th>\n",
       "      <td>id_4</td>\n",
       "      <td>2130</td>\n",
       "      <td>0.000010</td>\n",
       "      <td>369.403342</td>\n",
       "      <td>183.193104</td>\n",
       "      <td>1756</td>\n",
       "      <td>8159</td>\n",
       "      <td>0.556879</td>\n",
       "      <td>0.164502</td>\n",
       "      <td>276.298223</td>\n",
       "      <td>...</td>\n",
       "      <td>0.113905</td>\n",
       "      <td>0.019860</td>\n",
       "      <td>4.206746</td>\n",
       "      <td>1.613522</td>\n",
       "      <td>123</td>\n",
       "      <td>67945</td>\n",
       "      <td>1465.843329</td>\n",
       "      <td>230184.7154</td>\n",
       "      <td>181220</td>\n",
       "      <td>P</td>\n",
       "    </tr>\n",
       "    <tr>\n",
       "      <th>4</th>\n",
       "      <td>id_5</td>\n",
       "      <td>2310</td>\n",
       "      <td>0.000007</td>\n",
       "      <td>257.997131</td>\n",
       "      <td>111.275889</td>\n",
       "      <td>987</td>\n",
       "      <td>4732</td>\n",
       "      <td>0.266077</td>\n",
       "      <td>0.145104</td>\n",
       "      <td>184.636510</td>\n",
       "      <td>...</td>\n",
       "      <td>0.121782</td>\n",
       "      <td>0.020872</td>\n",
       "      <td>3.319036</td>\n",
       "      <td>1.680629</td>\n",
       "      <td>92</td>\n",
       "      <td>37285</td>\n",
       "      <td>1841.702561</td>\n",
       "      <td>158290.0255</td>\n",
       "      <td>72575</td>\n",
       "      <td>P</td>\n",
       "    </tr>\n",
       "  </tbody>\n",
       "</table>\n",
       "<p>5 rows × 452 columns</p>\n",
       "</div>"
      ],
      "text/plain": [
       "     ID  air_time1  disp_index1  gmrt_in_air1  gmrt_on_paper1  \\\n",
       "0  id_1       5160     0.000013    120.804174       86.853334   \n",
       "1  id_2      51980     0.000016    115.318238       83.448681   \n",
       "2  id_3       2600     0.000010    229.933997      172.761858   \n",
       "3  id_4       2130     0.000010    369.403342      183.193104   \n",
       "4  id_5       2310     0.000007    257.997131      111.275889   \n",
       "\n",
       "   max_x_extension1  max_y_extension1  mean_acc_in_air1  mean_acc_on_paper1  \\\n",
       "0               957              6601          0.361800            0.217459   \n",
       "1              1694              6998          0.272513            0.144880   \n",
       "2              2333              5802          0.387020            0.181342   \n",
       "3              1756              8159          0.556879            0.164502   \n",
       "4               987              4732          0.266077            0.145104   \n",
       "\n",
       "   mean_gmrt1  ...  mean_jerk_in_air25  mean_jerk_on_paper25  \\\n",
       "0  103.828754  ...            0.141434              0.024471   \n",
       "1   99.383459  ...            0.049663              0.018368   \n",
       "2  201.347928  ...            0.178194              0.017174   \n",
       "3  276.298223  ...            0.113905              0.019860   \n",
       "4  184.636510  ...            0.121782              0.020872   \n",
       "\n",
       "   mean_speed_in_air25  mean_speed_on_paper25  num_of_pendown25  paper_time25  \\\n",
       "0             5.596487               3.184589                71         40120   \n",
       "1             1.665973               0.950249               129        126700   \n",
       "2             4.000781               2.392521                74         45480   \n",
       "3             4.206746               1.613522               123         67945   \n",
       "4             3.319036               1.680629                92         37285   \n",
       "\n",
       "   pressure_mean25  pressure_var25  total_time25  class  \n",
       "0      1749.278166     296102.7676        144605      P  \n",
       "1      1504.768272     278744.2850        298640      P  \n",
       "2      1431.443492     144411.7055         79025      P  \n",
       "3      1465.843329     230184.7154        181220      P  \n",
       "4      1841.702561     158290.0255         72575      P  \n",
       "\n",
       "[5 rows x 452 columns]"
      ]
     },
     "execution_count": 3,
     "metadata": {},
     "output_type": "execute_result"
    }
   ],
   "source": [
    "df = pd.read_csv('data.csv')\n",
    "df.head()"
   ]
  },
  {
   "cell_type": "code",
   "execution_count": 4,
   "metadata": {},
   "outputs": [],
   "source": [
    "# Drops the objects columns from the dataset\n",
    "X = df.drop(['class', 'ID'], axis='columns')\n",
    "y = df['class'].map({'P': 1, 'H': 0})"
   ]
  },
  {
   "cell_type": "code",
   "execution_count": 5,
   "metadata": {},
   "outputs": [],
   "source": [
    "X_scaled = StandardScaler().fit_transform(X)"
   ]
  },
  {
   "cell_type": "code",
   "execution_count": 6,
   "metadata": {},
   "outputs": [],
   "source": [
    "X_train, X_test, y_train, y_test = train_test_split(X_scaled, y, test_size=0.2, random_state=42)"
   ]
  },
  {
   "cell_type": "code",
   "execution_count": 7,
   "metadata": {},
   "outputs": [
    {
     "data": {
      "text/html": [
       "<style>#sk-container-id-1 {\n",
       "  /* Definition of color scheme common for light and dark mode */\n",
       "  --sklearn-color-text: #000;\n",
       "  --sklearn-color-text-muted: #666;\n",
       "  --sklearn-color-line: gray;\n",
       "  /* Definition of color scheme for unfitted estimators */\n",
       "  --sklearn-color-unfitted-level-0: #fff5e6;\n",
       "  --sklearn-color-unfitted-level-1: #f6e4d2;\n",
       "  --sklearn-color-unfitted-level-2: #ffe0b3;\n",
       "  --sklearn-color-unfitted-level-3: chocolate;\n",
       "  /* Definition of color scheme for fitted estimators */\n",
       "  --sklearn-color-fitted-level-0: #f0f8ff;\n",
       "  --sklearn-color-fitted-level-1: #d4ebff;\n",
       "  --sklearn-color-fitted-level-2: #b3dbfd;\n",
       "  --sklearn-color-fitted-level-3: cornflowerblue;\n",
       "\n",
       "  /* Specific color for light theme */\n",
       "  --sklearn-color-text-on-default-background: var(--sg-text-color, var(--theme-code-foreground, var(--jp-content-font-color1, black)));\n",
       "  --sklearn-color-background: var(--sg-background-color, var(--theme-background, var(--jp-layout-color0, white)));\n",
       "  --sklearn-color-border-box: var(--sg-text-color, var(--theme-code-foreground, var(--jp-content-font-color1, black)));\n",
       "  --sklearn-color-icon: #696969;\n",
       "\n",
       "  @media (prefers-color-scheme: dark) {\n",
       "    /* Redefinition of color scheme for dark theme */\n",
       "    --sklearn-color-text-on-default-background: var(--sg-text-color, var(--theme-code-foreground, var(--jp-content-font-color1, white)));\n",
       "    --sklearn-color-background: var(--sg-background-color, var(--theme-background, var(--jp-layout-color0, #111)));\n",
       "    --sklearn-color-border-box: var(--sg-text-color, var(--theme-code-foreground, var(--jp-content-font-color1, white)));\n",
       "    --sklearn-color-icon: #878787;\n",
       "  }\n",
       "}\n",
       "\n",
       "#sk-container-id-1 {\n",
       "  color: var(--sklearn-color-text);\n",
       "}\n",
       "\n",
       "#sk-container-id-1 pre {\n",
       "  padding: 0;\n",
       "}\n",
       "\n",
       "#sk-container-id-1 input.sk-hidden--visually {\n",
       "  border: 0;\n",
       "  clip: rect(1px 1px 1px 1px);\n",
       "  clip: rect(1px, 1px, 1px, 1px);\n",
       "  height: 1px;\n",
       "  margin: -1px;\n",
       "  overflow: hidden;\n",
       "  padding: 0;\n",
       "  position: absolute;\n",
       "  width: 1px;\n",
       "}\n",
       "\n",
       "#sk-container-id-1 div.sk-dashed-wrapped {\n",
       "  border: 1px dashed var(--sklearn-color-line);\n",
       "  margin: 0 0.4em 0.5em 0.4em;\n",
       "  box-sizing: border-box;\n",
       "  padding-bottom: 0.4em;\n",
       "  background-color: var(--sklearn-color-background);\n",
       "}\n",
       "\n",
       "#sk-container-id-1 div.sk-container {\n",
       "  /* jupyter's `normalize.less` sets `[hidden] { display: none; }`\n",
       "     but bootstrap.min.css set `[hidden] { display: none !important; }`\n",
       "     so we also need the `!important` here to be able to override the\n",
       "     default hidden behavior on the sphinx rendered scikit-learn.org.\n",
       "     See: https://github.com/scikit-learn/scikit-learn/issues/21755 */\n",
       "  display: inline-block !important;\n",
       "  position: relative;\n",
       "}\n",
       "\n",
       "#sk-container-id-1 div.sk-text-repr-fallback {\n",
       "  display: none;\n",
       "}\n",
       "\n",
       "div.sk-parallel-item,\n",
       "div.sk-serial,\n",
       "div.sk-item {\n",
       "  /* draw centered vertical line to link estimators */\n",
       "  background-image: linear-gradient(var(--sklearn-color-text-on-default-background), var(--sklearn-color-text-on-default-background));\n",
       "  background-size: 2px 100%;\n",
       "  background-repeat: no-repeat;\n",
       "  background-position: center center;\n",
       "}\n",
       "\n",
       "/* Parallel-specific style estimator block */\n",
       "\n",
       "#sk-container-id-1 div.sk-parallel-item::after {\n",
       "  content: \"\";\n",
       "  width: 100%;\n",
       "  border-bottom: 2px solid var(--sklearn-color-text-on-default-background);\n",
       "  flex-grow: 1;\n",
       "}\n",
       "\n",
       "#sk-container-id-1 div.sk-parallel {\n",
       "  display: flex;\n",
       "  align-items: stretch;\n",
       "  justify-content: center;\n",
       "  background-color: var(--sklearn-color-background);\n",
       "  position: relative;\n",
       "}\n",
       "\n",
       "#sk-container-id-1 div.sk-parallel-item {\n",
       "  display: flex;\n",
       "  flex-direction: column;\n",
       "}\n",
       "\n",
       "#sk-container-id-1 div.sk-parallel-item:first-child::after {\n",
       "  align-self: flex-end;\n",
       "  width: 50%;\n",
       "}\n",
       "\n",
       "#sk-container-id-1 div.sk-parallel-item:last-child::after {\n",
       "  align-self: flex-start;\n",
       "  width: 50%;\n",
       "}\n",
       "\n",
       "#sk-container-id-1 div.sk-parallel-item:only-child::after {\n",
       "  width: 0;\n",
       "}\n",
       "\n",
       "/* Serial-specific style estimator block */\n",
       "\n",
       "#sk-container-id-1 div.sk-serial {\n",
       "  display: flex;\n",
       "  flex-direction: column;\n",
       "  align-items: center;\n",
       "  background-color: var(--sklearn-color-background);\n",
       "  padding-right: 1em;\n",
       "  padding-left: 1em;\n",
       "}\n",
       "\n",
       "\n",
       "/* Toggleable style: style used for estimator/Pipeline/ColumnTransformer box that is\n",
       "clickable and can be expanded/collapsed.\n",
       "- Pipeline and ColumnTransformer use this feature and define the default style\n",
       "- Estimators will overwrite some part of the style using the `sk-estimator` class\n",
       "*/\n",
       "\n",
       "/* Pipeline and ColumnTransformer style (default) */\n",
       "\n",
       "#sk-container-id-1 div.sk-toggleable {\n",
       "  /* Default theme specific background. It is overwritten whether we have a\n",
       "  specific estimator or a Pipeline/ColumnTransformer */\n",
       "  background-color: var(--sklearn-color-background);\n",
       "}\n",
       "\n",
       "/* Toggleable label */\n",
       "#sk-container-id-1 label.sk-toggleable__label {\n",
       "  cursor: pointer;\n",
       "  display: flex;\n",
       "  width: 100%;\n",
       "  margin-bottom: 0;\n",
       "  padding: 0.5em;\n",
       "  box-sizing: border-box;\n",
       "  text-align: center;\n",
       "  align-items: start;\n",
       "  justify-content: space-between;\n",
       "  gap: 0.5em;\n",
       "}\n",
       "\n",
       "#sk-container-id-1 label.sk-toggleable__label .caption {\n",
       "  font-size: 0.6rem;\n",
       "  font-weight: lighter;\n",
       "  color: var(--sklearn-color-text-muted);\n",
       "}\n",
       "\n",
       "#sk-container-id-1 label.sk-toggleable__label-arrow:before {\n",
       "  /* Arrow on the left of the label */\n",
       "  content: \"▸\";\n",
       "  float: left;\n",
       "  margin-right: 0.25em;\n",
       "  color: var(--sklearn-color-icon);\n",
       "}\n",
       "\n",
       "#sk-container-id-1 label.sk-toggleable__label-arrow:hover:before {\n",
       "  color: var(--sklearn-color-text);\n",
       "}\n",
       "\n",
       "/* Toggleable content - dropdown */\n",
       "\n",
       "#sk-container-id-1 div.sk-toggleable__content {\n",
       "  max-height: 0;\n",
       "  max-width: 0;\n",
       "  overflow: hidden;\n",
       "  text-align: left;\n",
       "  /* unfitted */\n",
       "  background-color: var(--sklearn-color-unfitted-level-0);\n",
       "}\n",
       "\n",
       "#sk-container-id-1 div.sk-toggleable__content.fitted {\n",
       "  /* fitted */\n",
       "  background-color: var(--sklearn-color-fitted-level-0);\n",
       "}\n",
       "\n",
       "#sk-container-id-1 div.sk-toggleable__content pre {\n",
       "  margin: 0.2em;\n",
       "  border-radius: 0.25em;\n",
       "  color: var(--sklearn-color-text);\n",
       "  /* unfitted */\n",
       "  background-color: var(--sklearn-color-unfitted-level-0);\n",
       "}\n",
       "\n",
       "#sk-container-id-1 div.sk-toggleable__content.fitted pre {\n",
       "  /* unfitted */\n",
       "  background-color: var(--sklearn-color-fitted-level-0);\n",
       "}\n",
       "\n",
       "#sk-container-id-1 input.sk-toggleable__control:checked~div.sk-toggleable__content {\n",
       "  /* Expand drop-down */\n",
       "  max-height: 200px;\n",
       "  max-width: 100%;\n",
       "  overflow: auto;\n",
       "}\n",
       "\n",
       "#sk-container-id-1 input.sk-toggleable__control:checked~label.sk-toggleable__label-arrow:before {\n",
       "  content: \"▾\";\n",
       "}\n",
       "\n",
       "/* Pipeline/ColumnTransformer-specific style */\n",
       "\n",
       "#sk-container-id-1 div.sk-label input.sk-toggleable__control:checked~label.sk-toggleable__label {\n",
       "  color: var(--sklearn-color-text);\n",
       "  background-color: var(--sklearn-color-unfitted-level-2);\n",
       "}\n",
       "\n",
       "#sk-container-id-1 div.sk-label.fitted input.sk-toggleable__control:checked~label.sk-toggleable__label {\n",
       "  background-color: var(--sklearn-color-fitted-level-2);\n",
       "}\n",
       "\n",
       "/* Estimator-specific style */\n",
       "\n",
       "/* Colorize estimator box */\n",
       "#sk-container-id-1 div.sk-estimator input.sk-toggleable__control:checked~label.sk-toggleable__label {\n",
       "  /* unfitted */\n",
       "  background-color: var(--sklearn-color-unfitted-level-2);\n",
       "}\n",
       "\n",
       "#sk-container-id-1 div.sk-estimator.fitted input.sk-toggleable__control:checked~label.sk-toggleable__label {\n",
       "  /* fitted */\n",
       "  background-color: var(--sklearn-color-fitted-level-2);\n",
       "}\n",
       "\n",
       "#sk-container-id-1 div.sk-label label.sk-toggleable__label,\n",
       "#sk-container-id-1 div.sk-label label {\n",
       "  /* The background is the default theme color */\n",
       "  color: var(--sklearn-color-text-on-default-background);\n",
       "}\n",
       "\n",
       "/* On hover, darken the color of the background */\n",
       "#sk-container-id-1 div.sk-label:hover label.sk-toggleable__label {\n",
       "  color: var(--sklearn-color-text);\n",
       "  background-color: var(--sklearn-color-unfitted-level-2);\n",
       "}\n",
       "\n",
       "/* Label box, darken color on hover, fitted */\n",
       "#sk-container-id-1 div.sk-label.fitted:hover label.sk-toggleable__label.fitted {\n",
       "  color: var(--sklearn-color-text);\n",
       "  background-color: var(--sklearn-color-fitted-level-2);\n",
       "}\n",
       "\n",
       "/* Estimator label */\n",
       "\n",
       "#sk-container-id-1 div.sk-label label {\n",
       "  font-family: monospace;\n",
       "  font-weight: bold;\n",
       "  display: inline-block;\n",
       "  line-height: 1.2em;\n",
       "}\n",
       "\n",
       "#sk-container-id-1 div.sk-label-container {\n",
       "  text-align: center;\n",
       "}\n",
       "\n",
       "/* Estimator-specific */\n",
       "#sk-container-id-1 div.sk-estimator {\n",
       "  font-family: monospace;\n",
       "  border: 1px dotted var(--sklearn-color-border-box);\n",
       "  border-radius: 0.25em;\n",
       "  box-sizing: border-box;\n",
       "  margin-bottom: 0.5em;\n",
       "  /* unfitted */\n",
       "  background-color: var(--sklearn-color-unfitted-level-0);\n",
       "}\n",
       "\n",
       "#sk-container-id-1 div.sk-estimator.fitted {\n",
       "  /* fitted */\n",
       "  background-color: var(--sklearn-color-fitted-level-0);\n",
       "}\n",
       "\n",
       "/* on hover */\n",
       "#sk-container-id-1 div.sk-estimator:hover {\n",
       "  /* unfitted */\n",
       "  background-color: var(--sklearn-color-unfitted-level-2);\n",
       "}\n",
       "\n",
       "#sk-container-id-1 div.sk-estimator.fitted:hover {\n",
       "  /* fitted */\n",
       "  background-color: var(--sklearn-color-fitted-level-2);\n",
       "}\n",
       "\n",
       "/* Specification for estimator info (e.g. \"i\" and \"?\") */\n",
       "\n",
       "/* Common style for \"i\" and \"?\" */\n",
       "\n",
       ".sk-estimator-doc-link,\n",
       "a:link.sk-estimator-doc-link,\n",
       "a:visited.sk-estimator-doc-link {\n",
       "  float: right;\n",
       "  font-size: smaller;\n",
       "  line-height: 1em;\n",
       "  font-family: monospace;\n",
       "  background-color: var(--sklearn-color-background);\n",
       "  border-radius: 1em;\n",
       "  height: 1em;\n",
       "  width: 1em;\n",
       "  text-decoration: none !important;\n",
       "  margin-left: 0.5em;\n",
       "  text-align: center;\n",
       "  /* unfitted */\n",
       "  border: var(--sklearn-color-unfitted-level-1) 1pt solid;\n",
       "  color: var(--sklearn-color-unfitted-level-1);\n",
       "}\n",
       "\n",
       ".sk-estimator-doc-link.fitted,\n",
       "a:link.sk-estimator-doc-link.fitted,\n",
       "a:visited.sk-estimator-doc-link.fitted {\n",
       "  /* fitted */\n",
       "  border: var(--sklearn-color-fitted-level-1) 1pt solid;\n",
       "  color: var(--sklearn-color-fitted-level-1);\n",
       "}\n",
       "\n",
       "/* On hover */\n",
       "div.sk-estimator:hover .sk-estimator-doc-link:hover,\n",
       ".sk-estimator-doc-link:hover,\n",
       "div.sk-label-container:hover .sk-estimator-doc-link:hover,\n",
       ".sk-estimator-doc-link:hover {\n",
       "  /* unfitted */\n",
       "  background-color: var(--sklearn-color-unfitted-level-3);\n",
       "  color: var(--sklearn-color-background);\n",
       "  text-decoration: none;\n",
       "}\n",
       "\n",
       "div.sk-estimator.fitted:hover .sk-estimator-doc-link.fitted:hover,\n",
       ".sk-estimator-doc-link.fitted:hover,\n",
       "div.sk-label-container:hover .sk-estimator-doc-link.fitted:hover,\n",
       ".sk-estimator-doc-link.fitted:hover {\n",
       "  /* fitted */\n",
       "  background-color: var(--sklearn-color-fitted-level-3);\n",
       "  color: var(--sklearn-color-background);\n",
       "  text-decoration: none;\n",
       "}\n",
       "\n",
       "/* Span, style for the box shown on hovering the info icon */\n",
       ".sk-estimator-doc-link span {\n",
       "  display: none;\n",
       "  z-index: 9999;\n",
       "  position: relative;\n",
       "  font-weight: normal;\n",
       "  right: .2ex;\n",
       "  padding: .5ex;\n",
       "  margin: .5ex;\n",
       "  width: min-content;\n",
       "  min-width: 20ex;\n",
       "  max-width: 50ex;\n",
       "  color: var(--sklearn-color-text);\n",
       "  box-shadow: 2pt 2pt 4pt #999;\n",
       "  /* unfitted */\n",
       "  background: var(--sklearn-color-unfitted-level-0);\n",
       "  border: .5pt solid var(--sklearn-color-unfitted-level-3);\n",
       "}\n",
       "\n",
       ".sk-estimator-doc-link.fitted span {\n",
       "  /* fitted */\n",
       "  background: var(--sklearn-color-fitted-level-0);\n",
       "  border: var(--sklearn-color-fitted-level-3);\n",
       "}\n",
       "\n",
       ".sk-estimator-doc-link:hover span {\n",
       "  display: block;\n",
       "}\n",
       "\n",
       "/* \"?\"-specific style due to the `<a>` HTML tag */\n",
       "\n",
       "#sk-container-id-1 a.estimator_doc_link {\n",
       "  float: right;\n",
       "  font-size: 1rem;\n",
       "  line-height: 1em;\n",
       "  font-family: monospace;\n",
       "  background-color: var(--sklearn-color-background);\n",
       "  border-radius: 1rem;\n",
       "  height: 1rem;\n",
       "  width: 1rem;\n",
       "  text-decoration: none;\n",
       "  /* unfitted */\n",
       "  color: var(--sklearn-color-unfitted-level-1);\n",
       "  border: var(--sklearn-color-unfitted-level-1) 1pt solid;\n",
       "}\n",
       "\n",
       "#sk-container-id-1 a.estimator_doc_link.fitted {\n",
       "  /* fitted */\n",
       "  border: var(--sklearn-color-fitted-level-1) 1pt solid;\n",
       "  color: var(--sklearn-color-fitted-level-1);\n",
       "}\n",
       "\n",
       "/* On hover */\n",
       "#sk-container-id-1 a.estimator_doc_link:hover {\n",
       "  /* unfitted */\n",
       "  background-color: var(--sklearn-color-unfitted-level-3);\n",
       "  color: var(--sklearn-color-background);\n",
       "  text-decoration: none;\n",
       "}\n",
       "\n",
       "#sk-container-id-1 a.estimator_doc_link.fitted:hover {\n",
       "  /* fitted */\n",
       "  background-color: var(--sklearn-color-fitted-level-3);\n",
       "}\n",
       "</style><div id=\"sk-container-id-1\" class=\"sk-top-container\"><div class=\"sk-text-repr-fallback\"><pre>RandomForestClassifier(random_state=42)</pre><b>In a Jupyter environment, please rerun this cell to show the HTML representation or trust the notebook. <br />On GitHub, the HTML representation is unable to render, please try loading this page with nbviewer.org.</b></div><div class=\"sk-container\" hidden><div class=\"sk-item\"><div class=\"sk-estimator fitted sk-toggleable\"><input class=\"sk-toggleable__control sk-hidden--visually\" id=\"sk-estimator-id-1\" type=\"checkbox\" checked><label for=\"sk-estimator-id-1\" class=\"sk-toggleable__label fitted sk-toggleable__label-arrow\"><div><div>RandomForestClassifier</div></div><div><a class=\"sk-estimator-doc-link fitted\" rel=\"noreferrer\" target=\"_blank\" href=\"https://scikit-learn.org/1.6/modules/generated/sklearn.ensemble.RandomForestClassifier.html\">?<span>Documentation for RandomForestClassifier</span></a><span class=\"sk-estimator-doc-link fitted\">i<span>Fitted</span></span></div></label><div class=\"sk-toggleable__content fitted\"><pre>RandomForestClassifier(random_state=42)</pre></div> </div></div></div></div>"
      ],
      "text/plain": [
       "RandomForestClassifier(random_state=42)"
      ]
     },
     "execution_count": 7,
     "metadata": {},
     "output_type": "execute_result"
    }
   ],
   "source": [
    "forest = RandomForestClassifier(n_estimators=100, random_state=42)\n",
    "forest.fit(X_train, y_train)"
   ]
  },
  {
   "cell_type": "code",
   "execution_count": 8,
   "metadata": {},
   "outputs": [
    {
     "data": {
      "text/plain": [
       "0.8857142857142857"
      ]
     },
     "execution_count": 8,
     "metadata": {},
     "output_type": "execute_result"
    }
   ],
   "source": [
    "forest.score(X_test, y_test)"
   ]
  },
  {
   "cell_type": "code",
   "execution_count": 10,
   "metadata": {},
   "outputs": [
    {
     "name": "stdout",
     "output_type": "stream",
     "text": [
      "                  Feature  Gini Importance\n",
      "413          total_time23         0.038206\n",
      "269          total_time15         0.036744\n",
      "252            air_time15         0.030857\n",
      "107           total_time6         0.023561\n",
      "396            air_time23         0.021524\n",
      "..                    ...              ...\n",
      "64    mean_jerk_on_paper4         0.000000\n",
      "279    mean_jerk_in_air16         0.000000\n",
      "273       gmrt_on_paper16         0.000000\n",
      "66   mean_speed_on_paper4         0.000000\n",
      "285       pressure_mean16         0.000000\n",
      "\n",
      "[450 rows x 2 columns]\n"
     ]
    }
   ],
   "source": [
    "feature_imp_df = pd.DataFrame({'Feature': X.columns, 'Gini Importance': forest.feature_importances_}).sort_values('Gini Importance', ascending=False) \n",
    "print(feature_imp_df)"
   ]
  },
  {
   "cell_type": "code",
   "execution_count": 25,
   "metadata": {},
   "outputs": [
    {
     "name": "stdout",
     "output_type": "stream",
     "text": [
      "435\n"
     ]
    }
   ],
   "source": [
    "THRESHOLD = 0.01\n",
    "count = 0\n",
    "\n",
    "for index, row in feature_imp_df.iterrows():\n",
    "    if row['Gini Importance'] < THRESHOLD:\n",
    "        count += 1\n",
    "\n",
    "print(count)"
   ]
  },
  {
   "cell_type": "code",
   "execution_count": 26,
   "metadata": {},
   "outputs": [],
   "source": [
    "X_new = X.drop(feature_imp_df[feature_imp_df['Gini Importance'] < THRESHOLD]['Feature'], axis='columns')"
   ]
  },
  {
   "cell_type": "code",
   "execution_count": 27,
   "metadata": {},
   "outputs": [
    {
     "data": {
      "text/html": [
       "<div>\n",
       "<style scoped>\n",
       "    .dataframe tbody tr th:only-of-type {\n",
       "        vertical-align: middle;\n",
       "    }\n",
       "\n",
       "    .dataframe tbody tr th {\n",
       "        vertical-align: top;\n",
       "    }\n",
       "\n",
       "    .dataframe thead th {\n",
       "        text-align: right;\n",
       "    }\n",
       "</style>\n",
       "<table border=\"1\" class=\"dataframe\">\n",
       "  <thead>\n",
       "    <tr style=\"text-align: right;\">\n",
       "      <th></th>\n",
       "      <th>total_time6</th>\n",
       "      <th>total_time7</th>\n",
       "      <th>total_time9</th>\n",
       "      <th>total_time13</th>\n",
       "      <th>air_time15</th>\n",
       "      <th>total_time15</th>\n",
       "      <th>air_time16</th>\n",
       "      <th>paper_time17</th>\n",
       "      <th>total_time17</th>\n",
       "      <th>num_of_pendown19</th>\n",
       "      <th>pressure_var19</th>\n",
       "      <th>air_time22</th>\n",
       "      <th>total_time22</th>\n",
       "      <th>air_time23</th>\n",
       "      <th>total_time23</th>\n",
       "    </tr>\n",
       "  </thead>\n",
       "  <tbody>\n",
       "    <tr>\n",
       "      <th>0</th>\n",
       "      <td>7675</td>\n",
       "      <td>9175</td>\n",
       "      <td>4910</td>\n",
       "      <td>11720</td>\n",
       "      <td>17354</td>\n",
       "      <td>32384</td>\n",
       "      <td>3730</td>\n",
       "      <td>16625</td>\n",
       "      <td>43285</td>\n",
       "      <td>43</td>\n",
       "      <td>188183.0325</td>\n",
       "      <td>13215</td>\n",
       "      <td>18185</td>\n",
       "      <td>10965</td>\n",
       "      <td>16160</td>\n",
       "    </tr>\n",
       "    <tr>\n",
       "      <th>1</th>\n",
       "      <td>30080</td>\n",
       "      <td>17045</td>\n",
       "      <td>15380</td>\n",
       "      <td>6805</td>\n",
       "      <td>26535</td>\n",
       "      <td>41200</td>\n",
       "      <td>10650</td>\n",
       "      <td>49565</td>\n",
       "      <td>103935</td>\n",
       "      <td>82</td>\n",
       "      <td>270924.3100</td>\n",
       "      <td>18555</td>\n",
       "      <td>33890</td>\n",
       "      <td>14660</td>\n",
       "      <td>29900</td>\n",
       "    </tr>\n",
       "    <tr>\n",
       "      <th>2</th>\n",
       "      <td>5345</td>\n",
       "      <td>5965</td>\n",
       "      <td>6970</td>\n",
       "      <td>6960</td>\n",
       "      <td>22345</td>\n",
       "      <td>33695</td>\n",
       "      <td>3265</td>\n",
       "      <td>23350</td>\n",
       "      <td>50990</td>\n",
       "      <td>42</td>\n",
       "      <td>193490.8166</td>\n",
       "      <td>7425</td>\n",
       "      <td>12930</td>\n",
       "      <td>7330</td>\n",
       "      <td>13865</td>\n",
       "    </tr>\n",
       "    <tr>\n",
       "      <th>3</th>\n",
       "      <td>29970</td>\n",
       "      <td>13565</td>\n",
       "      <td>22255</td>\n",
       "      <td>5095</td>\n",
       "      <td>21890</td>\n",
       "      <td>28465</td>\n",
       "      <td>9850</td>\n",
       "      <td>22645</td>\n",
       "      <td>49645</td>\n",
       "      <td>78</td>\n",
       "      <td>279448.8151</td>\n",
       "      <td>8989</td>\n",
       "      <td>16079</td>\n",
       "      <td>7205</td>\n",
       "      <td>13585</td>\n",
       "    </tr>\n",
       "    <tr>\n",
       "      <th>4</th>\n",
       "      <td>11870</td>\n",
       "      <td>5050</td>\n",
       "      <td>7680</td>\n",
       "      <td>9005</td>\n",
       "      <td>18575</td>\n",
       "      <td>24360</td>\n",
       "      <td>805</td>\n",
       "      <td>15300</td>\n",
       "      <td>37675</td>\n",
       "      <td>53</td>\n",
       "      <td>170823.7809</td>\n",
       "      <td>3775</td>\n",
       "      <td>8835</td>\n",
       "      <td>5340</td>\n",
       "      <td>10145</td>\n",
       "    </tr>\n",
       "  </tbody>\n",
       "</table>\n",
       "</div>"
      ],
      "text/plain": [
       "   total_time6  total_time7  total_time9  total_time13  air_time15  \\\n",
       "0         7675         9175         4910         11720       17354   \n",
       "1        30080        17045        15380          6805       26535   \n",
       "2         5345         5965         6970          6960       22345   \n",
       "3        29970        13565        22255          5095       21890   \n",
       "4        11870         5050         7680          9005       18575   \n",
       "\n",
       "   total_time15  air_time16  paper_time17  total_time17  num_of_pendown19  \\\n",
       "0         32384        3730         16625         43285                43   \n",
       "1         41200       10650         49565        103935                82   \n",
       "2         33695        3265         23350         50990                42   \n",
       "3         28465        9850         22645         49645                78   \n",
       "4         24360         805         15300         37675                53   \n",
       "\n",
       "   pressure_var19  air_time22  total_time22  air_time23  total_time23  \n",
       "0     188183.0325       13215         18185       10965         16160  \n",
       "1     270924.3100       18555         33890       14660         29900  \n",
       "2     193490.8166        7425         12930        7330         13865  \n",
       "3     279448.8151        8989         16079        7205         13585  \n",
       "4     170823.7809        3775          8835        5340         10145  "
      ]
     },
     "execution_count": 27,
     "metadata": {},
     "output_type": "execute_result"
    }
   ],
   "source": [
    "X_new.head()"
   ]
  },
  {
   "cell_type": "code",
   "execution_count": 28,
   "metadata": {},
   "outputs": [],
   "source": [
    "X_new_scaled = StandardScaler().fit_transform(X_new)"
   ]
  },
  {
   "cell_type": "code",
   "execution_count": 29,
   "metadata": {},
   "outputs": [],
   "source": [
    "from sklearn.tree import DecisionTreeClassifier, plot_tree\n",
    "from sklearn.metrics import f1_score\n",
    "import pickle\n",
    "# Split the data into train and test sets\n",
    "test_size = 0.2  # Proportion of data to allocate to the test set\n",
    "random_state = 42  # Seed for reproducibility\n",
    "depths = [3, 4, 5, 6, 7]"
   ]
  },
  {
   "cell_type": "code",
   "execution_count": 30,
   "metadata": {},
   "outputs": [
    {
     "name": "stdout",
     "output_type": "stream",
     "text": [
      "\n",
      "Number of features 450\n",
      "Max f1 score: 0.90\n"
     ]
    }
   ],
   "source": [
    "data = X_scaled\n",
    "scores = []\n",
    "max_f1 = 0\n",
    "\n",
    "for random_state in range(1, 20):\n",
    "\n",
    "    X_train, X_test, y_train, y_test = train_test_split(data, y, test_size=test_size, random_state=random_state)\n",
    "\n",
    "    for depth in depths:\n",
    "        clf = DecisionTreeClassifier(random_state=random_state, max_depth=depth)\n",
    "        clf = clf.fit(X_train, y_train)\n",
    "        score = clf.score(X_test, y_test)\n",
    "        #scores.append(score)\n",
    "\n",
    "        y_pred = clf.predict(X_test)\n",
    "        f1 = f1_score(y_test, y_pred)\n",
    "        scores.append(f1)\n",
    "\n",
    "        if max_f1 < f1:\n",
    "            max_f1 = f1\n",
    "            with open('model.pkl', 'wb') as file:\n",
    "                pickle.dump(clf, file)\n",
    "\n",
    "print(\"\")\n",
    "print(f\"Number of features {data.shape[1]}\")\n",
    "print(f\"Max f1 score: {np.max(scores):.2f}\")\n",
    "\n",
    "#clf = pickle.load(open('model.pkl', 'rb'))\n",
    "#print(f\"Best model accuracy {clf.score(X_test, y_test):.2f}\")\n",
    "#plot_tree(clf, feature_names=X_new.columns, class_names=['H', 'P'], filled=True)\n",
    "#plt.savefig('reduced_tree.pdf')"
   ]
  },
  {
   "cell_type": "code",
   "execution_count": 31,
   "metadata": {},
   "outputs": [
    {
     "name": "stdout",
     "output_type": "stream",
     "text": [
      "\n",
      "Number of features 15\n",
      "Max f1 score: 0.90\n"
     ]
    }
   ],
   "source": [
    "data = X_new_scaled\n",
    "scores = []\n",
    "max_f1 = 0\n",
    "\n",
    "for random_state in range(1, 20):\n",
    "\n",
    "    X_train, X_test, y_train, y_test = train_test_split(data, y, test_size=test_size, random_state=random_state)\n",
    "\n",
    "    for depth in depths:\n",
    "        clf = DecisionTreeClassifier(random_state=random_state, max_depth=depth)\n",
    "        clf = clf.fit(X_train, y_train)\n",
    "        score = clf.score(X_test, y_test)\n",
    "        #scores.append(score)\n",
    "\n",
    "        y_pred = clf.predict(X_test)\n",
    "        f1 = f1_score(y_test, y_pred)\n",
    "        scores.append(f1)\n",
    "\n",
    "        if max_f1 < f1:\n",
    "            max_f1 = f1\n",
    "            with open('model.pkl', 'wb') as file:\n",
    "                pickle.dump(clf, file)\n",
    "\n",
    "print(\"\")\n",
    "print(f\"Number of features {data.shape[1]}\")\n",
    "print(f\"Max f1 score: {np.max(scores):.2f}\")\n",
    "\n",
    "#clf = pickle.load(open('model.pkl', 'rb'))\n",
    "#print(f\"Best model accuracy {clf.score(X_test, y_test):.2f}\")\n",
    "#plot_tree(clf, feature_names=X_new.columns, class_names=['H', 'P'], filled=True)\n",
    "#plt.savefig('reduced_tree.pdf')"
   ]
  },
  {
   "cell_type": "code",
   "execution_count": 32,
   "metadata": {},
   "outputs": [
    {
     "name": "stdout",
     "output_type": "stream",
     "text": [
      "\n",
      "Number of features 15\n",
      "Max f1 score: 0.90\n",
      "Best model accuracy 1.00\n"
     ]
    },
    {
     "data": {
      "image/png": "[encoded data removed]",
      "text/plain": [
       "<Figure size 640x480 with 1 Axes>"
      ]
     },
     "metadata": {},
     "output_type": "display_data"
    }
   ],
   "source": [
    "data = X_new\n",
    "scores = []\n",
    "max_f1 = 0\n",
    "\n",
    "for random_state in range(1, 20):\n",
    "\n",
    "    X_train, X_test, y_train, y_test = train_test_split(data, y, test_size=test_size, random_state=random_state)\n",
    "\n",
    "    for depth in depths:\n",
    "        clf = DecisionTreeClassifier(random_state=random_state, max_depth=depth)\n",
    "        clf = clf.fit(X_train, y_train)\n",
    "        score = clf.score(X_test, y_test)\n",
    "        #scores.append(score)\n",
    "\n",
    "        y_pred = clf.predict(X_test)\n",
    "        f1 = f1_score(y_test, y_pred)\n",
    "        scores.append(f1)\n",
    "\n",
    "        if max_f1 < f1:\n",
    "            max_f1 = f1\n",
    "            with open('model.pkl', 'wb') as file:\n",
    "                pickle.dump(clf, file)\n",
    "\n",
    "print(\"\")\n",
    "print(f\"Number of features {data.shape[1]}\")\n",
    "print(f\"Max f1 score: {np.max(scores):.2f}\")\n",
    "\n",
    "clf = pickle.load(open('model.pkl', 'rb'))\n",
    "print(f\"Best model accuracy {clf.score(X_test, y_test):.2f}\")\n",
    "plot_tree(clf, feature_names=X_new.columns, class_names=['H', 'P'], filled=True)\n",
    "plt.savefig('out.pdf')"
   ]
  },
  {
   "cell_type": "code",
   "execution_count": 40,
   "metadata": {},
   "outputs": [
    {
     "name": "stderr",
     "output_type": "stream",
     "text": [
      "/Users/eduardoduarte/miniconda3/envs/darwin/lib/python3.10/site-packages/sklearn/utils/deprecation.py:151: FutureWarning:\n",
      "\n",
      "'force_all_finite' was renamed to 'ensure_all_finite' in 1.6 and will be removed in 1.8.\n",
      "\n"
     ]
    },
    {
     "name": "stdout",
     "output_type": "stream",
     "text": [
      "Original Dataset feature size 15\n"
     ]
    },
    {
     "data": {
      "image/png": "[encoded data removed]",
      "text/plain": [
       "<Figure size 1000x1000 with 1 Axes>"
      ]
     },
     "metadata": {},
     "output_type": "display_data"
    }
   ],
   "source": [
    "um = umap.UMAP()\n",
    "x_umap = um.fit_transform(X_new_scaled)\n",
    "\n",
    "plt.figure(figsize=(10,10))\n",
    "for i,marker in enumerate(['o', 'x']):\n",
    "    mask = y == i\n",
    "    plt.scatter(x_umap[mask, 0], x_umap[mask, 1], label=i, s=10, alpha=1,marker=marker)\n",
    "plt.legend(bbox_to_anchor=(1.00, 1), loc='upper left',fontsize=15)\n",
    "print(f\"Original Dataset feature size {X_new_scaled.shape[1]}\")"
   ]
  },
  {
   "cell_type": "code",
   "execution_count": 41,
   "metadata": {},
   "outputs": [
    {
     "data": {
      "text/plain": [
       "<matplotlib.legend.Legend at 0x331510100>"
      ]
     },
     "execution_count": 41,
     "metadata": {},
     "output_type": "execute_result"
    },
    {
     "data": {
      "image/png": "[encoded data removed]",
      "text/plain": [
       "<Figure size 1000x1000 with 1 Axes>"
      ]
     },
     "metadata": {},
     "output_type": "display_data"
    }
   ],
   "source": [
    "from sklearn.manifold import TSNE\n",
    "\n",
    "tsne = TSNE(n_components=2)\n",
    "x_tsne = tsne.fit_transform(X_new_scaled)\n",
    "\n",
    "plt.figure(figsize=(10,10))\n",
    "for i,marker in enumerate(['o', 'x']):\n",
    "    mask = y == i\n",
    "    plt.scatter(x_tsne[mask, 0], x_tsne[mask, 1], label=i, s=10, alpha=1,marker=marker)\n",
    "plt.legend(bbox_to_anchor=(1.00, 1), loc='upper left',fontsize=15)"
   ]
  },
  {
   "cell_type": "code",
   "execution_count": 47,
   "metadata": {},
   "outputs": [
    {
     "name": "stderr",
     "output_type": "stream",
     "text": [
      "/Users/eduardoduarte/miniconda3/envs/darwin/lib/python3.10/site-packages/sklearn/utils/deprecation.py:151: FutureWarning:\n",
      "\n",
      "'force_all_finite' was renamed to 'ensure_all_finite' in 1.6 and will be removed in 1.8.\n",
      "\n",
      "/Users/eduardoduarte/miniconda3/envs/darwin/lib/python3.10/site-packages/umap/umap_.py:1943: UserWarning:\n",
      "\n",
      "n_jobs value -1 overridden to 1 by setting random_state. Use no seed for parallelism.\n",
      "\n"
     ]
    },
    {
     "name": "stdout",
     "output_type": "stream",
     "text": [
      "<class 'numpy.ndarray'>\n"
     ]
    },
    {
     "data": {
      "application/vnd.plotly.v1+json": {
       "config": {
        "plotlyServerURL": "https://plot.ly"
       },
       "data": [
        {
         "hovertemplate": "0=%{x}<br>1=%{y}<br>2=%{z}<br>class=%{marker.color}<extra></extra>",
         "legendgroup": "",
         "marker": {
          "color": [
           1,
           1,
           1,
           1,
           1,
           1,
           1,
           1,
           1,
           1,
           1,
           1,
           1,
           1,
           1,
           1,
           1,
           1,
           1,
           1,
           1,
           1,
           1,
           1,
           1,
           1,
           1,
           1,
           1,
           1,
           1,
           1,
           1,
           1,
           1,
           1,
           1,
           1,
           1,
           1,
           1,
           1,
           1,
           1,
           1,
           1,
           1,
           1,
           1,
           1,
           1,
           1,
           1,
           1,
           1,
           1,
           1,
           1,
           1,
           1,
           1,
           1,
           1,
           1,
           1,
           1,
           1,
           1,
           1,
           1,
           1,
           1,
           1,
           1,
           1,
           1,
           1,
           1,
           1,
           1,
           1,
           1,
           1,
           1,
           1,
           1,
           1,
           1,
           1,
           0,
           0,
           0,
           0,
           0,
           0,
           0,
           0,
           0,
           0,
           0,
           0,
           0,
           0,
           0,
           0,
           0,
           0,
           0,
           0,
           0,
           0,
           0,
           0,
           0,
           0,
           0,
           0,
           0,
           0,
           0,
           0,
           0,
           0,
           0,
           0,
           0,
           0,
           0,
           0,
           0,
           0,
           0,
           0,
           0,
           0,
           0,
           0,
           0,
           0,
           0,
           0,
           0,
           0,
           0,
           0,
           0,
           0,
           0,
           0,
           0,
           0,
           0,
           0,
           0,
           0,
           0,
           0,
           0,
           0,
           0,
           0,
           0,
           0,
           0,
           0,
           0,
           0,
           0,
           0,
           0,
           0,
           0,
           0,
           0
          ],
          "coloraxis": "coloraxis",
          "size": 3,
          "symbol": "circle"
         },
         "mode": "markers",
         "name": "",
         "scene": "scene",
         "showlegend": false,
         "type": "scatter3d",
         "x": [
          5.3270745277404785,
          5.335663795471191,
          5.428515911102295,
          7.0481858253479,
          6.068754196166992,
          4.179841995239258,
          7.069929122924805,
          6.6423821449279785,
          7.420107841491699,
          3.190007448196411,
          3.414706230163574,
          3.6296215057373047,
          6.277165412902832,
          3.631878137588501,
          3.9900166988372803,
          3.055748701095581,
          3.167548656463623,
          4.697520732879639,
          3.4934189319610596,
          3.9550437927246094,
          4.944016456604004,
          3.8498125076293945,
          5.266024112701416,
          7.143947124481201,
          5.777111530303955,
          5.695748329162598,
          4.592324256896973,
          3.19523024559021,
          5.126303672790527,
          4.010204315185547,
          5.035378932952881,
          6.222565174102783,
          4.4306535720825195,
          3.7010769844055176,
          4.559329986572266,
          6.795721054077148,
          5.455039024353027,
          3.9182846546173096,
          3.5215346813201904,
          3.9368624687194824,
          4.228373050689697,
          7.570635795593262,
          6.443626403808594,
          6.936119079589844,
          3.886021375656128,
          5.322073459625244,
          6.548011779785156,
          6.443059921264648,
          6.587035179138184,
          4.115123271942139,
          3.9057836532592773,
          3.621241569519043,
          4.587220191955566,
          6.692970275878906,
          3.760592222213745,
          3.5082952976226807,
          4.596035957336426,
          3.3455944061279297,
          3.425503730773926,
          3.8832316398620605,
          3.8366308212280273,
          3.2336957454681396,
          3.5901458263397217,
          3.5687100887298584,
          3.603017807006836,
          4.446360111236572,
          3.0640203952789307,
          3.093428611755371,
          3.081190347671509,
          2.9448862075805664,
          3.4811716079711914,
          3.651492118835449,
          5.120121955871582,
          3.360074043273926,
          3.8354122638702393,
          3.709676742553711,
          3.531970739364624,
          3.889939546585083,
          2.9176554679870605,
          3.418002128601074,
          3.9919328689575195,
          3.6388802528381348,
          3.060685396194458,
          3.7492291927337646,
          3.00901460647583,
          3.1680045127868652,
          3.049682140350342,
          3.013648509979248,
          3.04256010055542,
          4.211768627166748,
          4.0159711837768555,
          7.608795642852783,
          7.988648414611816,
          7.342065811157227,
          6.411965847015381,
          4.624757766723633,
          5.445629119873047,
          5.9116106033325195,
          6.537719249725342,
          6.231243133544922,
          6.627847671508789,
          3.819190740585327,
          7.832845687866211,
          5.53569221496582,
          6.75549840927124,
          5.743374824523926,
          6.842442512512207,
          3.989017963409424,
          4.353231430053711,
          6.345245361328125,
          4.430660724639893,
          6.882272720336914,
          4.627562046051025,
          4.235055446624756,
          4.720874786376953,
          5.300553321838379,
          5.612522602081299,
          4.36334753036499,
          3.891594409942627,
          7.4177165031433105,
          6.847537040710449,
          6.497450351715088,
          6.022194862365723,
          7.819878578186035,
          5.316849231719971,
          5.959837436676025,
          6.073259353637695,
          7.335363388061523,
          6.573663234710693,
          7.029001235961914,
          6.952622413635254,
          5.275887966156006,
          7.499396800994873,
          6.3915696144104,
          7.237285614013672,
          7.9656758308410645,
          4.410385608673096,
          5.816740036010742,
          5.169250965118408,
          8.092108726501465,
          6.126030445098877,
          6.286963939666748,
          6.5955491065979,
          5.470344543457031,
          7.67440938949585,
          5.283333778381348,
          5.769427299499512,
          7.8417205810546875,
          5.811911582946777,
          6.982297897338867,
          3.481433629989624,
          6.915514945983887,
          5.902630805969238,
          7.521272659301758,
          6.326366424560547,
          6.72402811050415,
          6.247119903564453,
          7.890824317932129,
          7.667002201080322,
          6.668337821960449,
          5.424591541290283,
          7.093521595001221,
          6.404376983642578,
          6.459246635437012,
          6.662377834320068,
          5.91857385635376,
          6.06153678894043,
          5.984447479248047,
          3.9437482357025146,
          5.955938339233398,
          5.589082717895508,
          4.06390380859375,
          3.978132486343384,
          4.021718502044678
         ],
         "y": [
          4.262996196746826,
          2.551076650619507,
          4.775124549865723,
          2.984402656555176,
          3.979091167449951,
          3.0373573303222656,
          3.1041672229766846,
          2.6434357166290283,
          3.3704795837402344,
          5.594952583312988,
          4.364692211151123,
          3.605381488800049,
          4.902493000030518,
          4.4673871994018555,
          2.7301104068756104,
          5.571574687957764,
          3.284895420074463,
          2.5303335189819336,
          3.763885736465454,
          3.5754101276397705,
          2.482790231704712,
          3.456425189971924,
          3.0842437744140625,
          2.9595890045166016,
          3.269425630569458,
          3.4807827472686768,
          4.082517147064209,
          5.602687358856201,
          2.5041651725769043,
          3.695720672607422,
          5.0209126472473145,
          3.2975454330444336,
          5.146676540374756,
          4.182028770446777,
          2.4987242221832275,
          2.9851315021514893,
          3.2578179836273193,
          4.085768222808838,
          3.977884531021118,
          3.94640851020813,
          5.234951972961426,
          3.5408830642700195,
          4.894768714904785,
          3.586822748184204,
          4.216005325317383,
          4.349013328552246,
          2.750938653945923,
          4.861454486846924,
          3.3635072708129883,
          5.022927284240723,
          3.5675346851348877,
          3.36276912689209,
          2.5083863735198975,
          2.6020967960357666,
          3.7964656352996826,
          3.788335084915161,
          2.5258336067199707,
          3.4054603576660156,
          3.533689260482788,
          3.157456874847412,
          4.221783638000488,
          3.767134666442871,
          4.796737194061279,
          4.23259162902832,
          4.08831262588501,
          2.564450979232788,
          3.467310905456543,
          5.892441749572754,
          3.4016056060791016,
          3.6485373973846436,
          4.635513782501221,
          4.253201961517334,
          3.2713265419006348,
          4.262356758117676,
          3.910355806350708,
          4.899075031280518,
          4.34085750579834,
          3.339466094970703,
          3.5581977367401123,
          4.741971969604492,
          3.341174364089966,
          2.9442861080169678,
          5.677489280700684,
          3.3960120677948,
          3.5112528800964355,
          5.75134801864624,
          5.784946441650391,
          5.818592548370361,
          5.733853816986084,
          5.406589031219482,
          4.209469795227051,
          3.3709871768951416,
          3.851310968399048,
          4.5142107009887695,
          5.476873397827148,
          5.474958419799805,
          5.3216071128845215,
          5.694740295410156,
          5.5300469398498535,
          5.543792247772217,
          5.457338333129883,
          4.697407245635986,
          3.8316702842712402,
          5.284442901611328,
          4.937980651855469,
          5.072598934173584,
          5.146450519561768,
          4.0223469734191895,
          4.8327765464782715,
          5.307825088500977,
          5.299633502960205,
          5.259807109832764,
          5.566709518432617,
          5.471018314361572,
          5.143985271453857,
          3.454821825027466,
          5.183988571166992,
          5.412747383117676,
          4.5407490730285645,
          3.6135928630828857,
          3.7721829414367676,
          3.0718581676483154,
          5.622167110443115,
          3.9235994815826416,
          5.429441452026367,
          5.0119733810424805,
          3.6362030506134033,
          3.5430023670196533,
          3.6290595531463623,
          4.970274448394775,
          4.851040363311768,
          4.70435094833374,
          4.298406600952148,
          5.649578094482422,
          4.022521495819092,
          3.790757656097412,
          5.114123344421387,
          5.668025493621826,
          5.610659599304199,
          3.959390163421631,
          2.9918975830078125,
          5.343097686767578,
          2.540529727935791,
          5.409450531005859,
          3.7686522006988525,
          3.44264554977417,
          4.725329875946045,
          3.9807677268981934,
          5.36667537689209,
          3.5199265480041504,
          4.7081756591796875,
          3.6637632846832275,
          5.437290191650391,
          3.907383441925049,
          5.656725883483887,
          3.297457695007324,
          5.784921646118164,
          3.670809745788574,
          3.592160940170288,
          3.502925157546997,
          4.508804798126221,
          3.625579595565796,
          3.0469212532043457,
          2.606454372406006,
          2.9445223808288574,
          5.1471381187438965,
          4.729039192199707,
          5.210404872894287,
          3.6185226440429688,
          4.887326717376709,
          4.396678447723389,
          5.070990562438965,
          5.148725986480713,
          5.1220808029174805
         ],
         "z": [
          4.136874198913574,
          4.904523849487305,
          4.284222602844238,
          4.297714710235596,
          3.3639075756073,
          4.178775787353516,
          3.684671640396118,
          3.7502951622009277,
          3.5193138122558594,
          5.607431411743164,
          3.532212495803833,
          4.641124248504639,
          4.680484294891357,
          4.124135494232178,
          4.70114803314209,
          5.61600399017334,
          3.3807642459869385,
          4.596951484680176,
          5.344873428344727,
          4.224974632263184,
          5.090701103210449,
          5.113339900970459,
          4.1542205810546875,
          4.106203079223633,
          3.360440731048584,
          3.1838924884796143,
          4.704148292541504,
          5.558910369873047,
          4.940701961517334,
          3.9874136447906494,
          4.504599094390869,
          3.4689273834228516,
          3.927154064178467,
          5.235081672668457,
          4.85853910446167,
          3.597681999206543,
          3.883171319961548,
          4.0084547996521,
          5.324038028717041,
          3.9259636402130127,
          2.998415470123291,
          4.311283588409424,
          3.9387102127075195,
          4.197033882141113,
          5.129909038543701,
          3.8219213485717773,
          3.656571865081787,
          4.734343528747559,
          4.461368083953857,
          4.843353748321533,
          4.756189346313477,
          5.117653846740723,
          5.093135833740234,
          4.084384918212891,
          4.506303787231445,
          5.362725734710693,
          5.103318691253662,
          4.857753276824951,
          5.0177001953125,
          4.265890121459961,
          3.7892794609069824,
          3.4824492931365967,
          3.5479047298431396,
          3.3421456813812256,
          5.407474040985107,
          5.116121292114258,
          3.456528663635254,
          5.871108531951904,
          3.4758248329162598,
          3.475747585296631,
          4.40047550201416,
          4.075642108917236,
          3.842909336090088,
          4.16181755065918,
          3.6777591705322266,
          3.6064305305480957,
          5.00780725479126,
          4.093868732452393,
          3.3154585361480713,
          3.913963794708252,
          5.053689479827881,
          4.807836532592773,
          5.667482852935791,
          3.929875135421753,
          3.3479607105255127,
          5.699759483337402,
          5.755263805389404,
          5.810634613037109,
          5.731901168823242,
          3.2719106674194336,
          4.500996112823486,
          3.8772993087768555,
          4.389830589294434,
          4.567164421081543,
          3.9666032791137695,
          2.96437406539917,
          3.3709137439727783,
          3.2778375148773193,
          4.415643692016602,
          4.221105575561523,
          4.4147047996521,
          3.299231767654419,
          4.351789951324463,
          4.124205589294434,
          4.330631256103516,
          3.4527974128723145,
          4.616172790527344,
          5.0504231452941895,
          3.7215354442596436,
          3.5920536518096924,
          2.8863463401794434,
          4.574033260345459,
          3.1104836463928223,
          3.269721508026123,
          2.7302589416503906,
          3.7601912021636963,
          3.1392083168029785,
          3.4677937030792236,
          3.291033983230591,
          3.4883482456207275,
          3.2039034366607666,
          3.457228899002075,
          3.697936773300171,
          4.597655296325684,
          3.6624464988708496,
          2.8798043727874756,
          3.1574018001556396,
          4.137135982513428,
          3.4158568382263184,
          4.526963710784912,
          4.301060676574707,
          2.6719119548797607,
          4.609588146209717,
          4.185678958892822,
          3.320835828781128,
          3.9767847061157227,
          2.7610292434692383,
          3.7306714057922363,
          3.0705068111419678,
          4.215746879577637,
          4.3929123878479,
          2.9935338497161865,
          3.8675310611724854,
          3.0297696590423584,
          4.490616321563721,
          3.762629508972168,
          2.6485342979431152,
          4.549411773681641,
          3.6692378520965576,
          3.2512271404266357,
          3.4062018394470215,
          3.339092254638672,
          3.399066209793091,
          4.619675636291504,
          4.298679828643799,
          3.4606714248657227,
          4.129613399505615,
          4.104653358459473,
          3.545125961303711,
          3.2258949279785156,
          3.489291191101074,
          4.323466777801514,
          4.4716057777404785,
          4.168161392211914,
          3.3697381019592285,
          3.110860586166382,
          3.091876268386841,
          2.987563371658325,
          4.637330532073975,
          3.1953272819519043,
          3.622511148452759,
          4.938563823699951,
          5.008834362030029,
          4.902308940887451
         ]
        }
       ],
       "layout": {
        "coloraxis": {
         "colorbar": {
          "title": {
           "text": "class"
          }
         },
         "colorscale": [
          [
           0,
           "#0d0887"
          ],
          [
           0.1111111111111111,
           "#46039f"
          ],
          [
           0.2222222222222222,
           "#7201a8"
          ],
          [
           0.3333333333333333,
           "#9c179e"
          ],
          [
           0.4444444444444444,
           "#bd3786"
          ],
          [
           0.5555555555555556,
           "#d8576b"
          ],
          [
           0.6666666666666666,
           "#ed7953"
          ],
          [
           0.7777777777777778,
           "#fb9f3a"
          ],
          [
           0.8888888888888888,
           "#fdca26"
          ],
          [
           1,
           "#f0f921"
          ]
         ]
        },
        "legend": {
         "tracegroupgap": 0
        },
        "margin": {
         "t": 60
        },
        "scene": {
         "domain": {
          "x": [
           0,
           1
          ],
          "y": [
           0,
           1
          ]
         },
         "xaxis": {
          "title": {
           "text": "0"
          }
         },
         "yaxis": {
          "title": {
           "text": "1"
          }
         },
         "zaxis": {
          "title": {
           "text": "2"
          }
         }
        },
        "template": {
         "data": {
          "bar": [
           {
            "error_x": {
             "color": "#2a3f5f"
            },
            "error_y": {
             "color": "#2a3f5f"
            },
            "marker": {
             "line": {
              "color": "#E5ECF6",
              "width": 0.5
             },
             "pattern": {
              "fillmode": "overlay",
              "size": 10,
              "solidity": 0.2
             }
            },
            "type": "bar"
           }
          ],
          "barpolar": [
           {
            "marker": {
             "line": {
              "color": "#E5ECF6",
              "width": 0.5
             },
             "pattern": {
              "fillmode": "overlay",
              "size": 10,
              "solidity": 0.2
             }
            },
            "type": "barpolar"
           }
          ],
          "carpet": [
           {
            "aaxis": {
             "endlinecolor": "#2a3f5f",
             "gridcolor": "white",
             "linecolor": "white",
             "minorgridcolor": "white",
             "startlinecolor": "#2a3f5f"
            },
            "baxis": {
             "endlinecolor": "#2a3f5f",
             "gridcolor": "white",
             "linecolor": "white",
             "minorgridcolor": "white",
             "startlinecolor": "#2a3f5f"
            },
            "type": "carpet"
           }
          ],
          "choropleth": [
           {
            "colorbar": {
             "outlinewidth": 0,
             "ticks": ""
            },
            "type": "choropleth"
           }
          ],
          "contour": [
           {
            "colorbar": {
             "outlinewidth": 0,
             "ticks": ""
            },
            "colorscale": [
             [
              0,
              "#0d0887"
             ],
             [
              0.1111111111111111,
              "#46039f"
             ],
             [
              0.2222222222222222,
              "#7201a8"
             ],
             [
              0.3333333333333333,
              "#9c179e"
             ],
             [
              0.4444444444444444,
              "#bd3786"
             ],
             [
              0.5555555555555556,
              "#d8576b"
             ],
             [
              0.6666666666666666,
              "#ed7953"
             ],
             [
              0.7777777777777778,
              "#fb9f3a"
             ],
             [
              0.8888888888888888,
              "#fdca26"
             ],
             [
              1,
              "#f0f921"
             ]
            ],
            "type": "contour"
           }
          ],
          "contourcarpet": [
           {
            "colorbar": {
             "outlinewidth": 0,
             "ticks": ""
            },
            "type": "contourcarpet"
           }
          ],
          "heatmap": [
           {
            "colorbar": {
             "outlinewidth": 0,
             "ticks": ""
            },
            "colorscale": [
             [
              0,
              "#0d0887"
             ],
             [
              0.1111111111111111,
              "#46039f"
             ],
             [
              0.2222222222222222,
              "#7201a8"
             ],
             [
              0.3333333333333333,
              "#9c179e"
             ],
             [
              0.4444444444444444,
              "#bd3786"
             ],
             [
              0.5555555555555556,
              "#d8576b"
             ],
             [
              0.6666666666666666,
              "#ed7953"
             ],
             [
              0.7777777777777778,
              "#fb9f3a"
             ],
             [
              0.8888888888888888,
              "#fdca26"
             ],
             [
              1,
              "#f0f921"
             ]
            ],
            "type": "heatmap"
           }
          ],
          "heatmapgl": [
           {
            "colorbar": {
             "outlinewidth": 0,
             "ticks": ""
            },
            "colorscale": [
             [
              0,
              "#0d0887"
             ],
             [
              0.1111111111111111,
              "#46039f"
             ],
             [
              0.2222222222222222,
              "#7201a8"
             ],
             [
              0.3333333333333333,
              "#9c179e"
             ],
             [
              0.4444444444444444,
              "#bd3786"
             ],
             [
              0.5555555555555556,
              "#d8576b"
             ],
             [
              0.6666666666666666,
              "#ed7953"
             ],
             [
              0.7777777777777778,
              "#fb9f3a"
             ],
             [
              0.8888888888888888,
              "#fdca26"
             ],
             [
              1,
              "#f0f921"
             ]
            ],
            "type": "heatmapgl"
           }
          ],
          "histogram": [
           {
            "marker": {
             "pattern": {
              "fillmode": "overlay",
              "size": 10,
              "solidity": 0.2
             }
            },
            "type": "histogram"
           }
          ],
          "histogram2d": [
           {
            "colorbar": {
             "outlinewidth": 0,
             "ticks": ""
            },
            "colorscale": [
             [
              0,
              "#0d0887"
             ],
             [
              0.1111111111111111,
              "#46039f"
             ],
             [
              0.2222222222222222,
              "#7201a8"
             ],
             [
              0.3333333333333333,
              "#9c179e"
             ],
             [
              0.4444444444444444,
              "#bd3786"
             ],
             [
              0.5555555555555556,
              "#d8576b"
             ],
             [
              0.6666666666666666,
              "#ed7953"
             ],
             [
              0.7777777777777778,
              "#fb9f3a"
             ],
             [
              0.8888888888888888,
              "#fdca26"
             ],
             [
              1,
              "#f0f921"
             ]
            ],
            "type": "histogram2d"
           }
          ],
          "histogram2dcontour": [
           {
            "colorbar": {
             "outlinewidth": 0,
             "ticks": ""
            },
            "colorscale": [
             [
              0,
              "#0d0887"
             ],
             [
              0.1111111111111111,
              "#46039f"
             ],
             [
              0.2222222222222222,
              "#7201a8"
             ],
             [
              0.3333333333333333,
              "#9c179e"
             ],
             [
              0.4444444444444444,
              "#bd3786"
             ],
             [
              0.5555555555555556,
              "#d8576b"
             ],
             [
              0.6666666666666666,
              "#ed7953"
             ],
             [
              0.7777777777777778,
              "#fb9f3a"
             ],
             [
              0.8888888888888888,
              "#fdca26"
             ],
             [
              1,
              "#f0f921"
             ]
            ],
            "type": "histogram2dcontour"
           }
          ],
          "mesh3d": [
           {
            "colorbar": {
             "outlinewidth": 0,
             "ticks": ""
            },
            "type": "mesh3d"
           }
          ],
          "parcoords": [
           {
            "line": {
             "colorbar": {
              "outlinewidth": 0,
              "ticks": ""
             }
            },
            "type": "parcoords"
           }
          ],
          "pie": [
           {
            "automargin": true,
            "type": "pie"
           }
          ],
          "scatter": [
           {
            "fillpattern": {
             "fillmode": "overlay",
             "size": 10,
             "solidity": 0.2
            },
            "type": "scatter"
           }
          ],
          "scatter3d": [
           {
            "line": {
             "colorbar": {
              "outlinewidth": 0,
              "ticks": ""
             }
            },
            "marker": {
             "colorbar": {
              "outlinewidth": 0,
              "ticks": ""
             }
            },
            "type": "scatter3d"
           }
          ],
          "scattercarpet": [
           {
            "marker": {
             "colorbar": {
              "outlinewidth": 0,
              "ticks": ""
             }
            },
            "type": "scattercarpet"
           }
          ],
          "scattergeo": [
           {
            "marker": {
             "colorbar": {
              "outlinewidth": 0,
              "ticks": ""
             }
            },
            "type": "scattergeo"
           }
          ],
          "scattergl": [
           {
            "marker": {
             "colorbar": {
              "outlinewidth": 0,
              "ticks": ""
             }
            },
            "type": "scattergl"
           }
          ],
          "scattermapbox": [
           {
            "marker": {
             "colorbar": {
              "outlinewidth": 0,
              "ticks": ""
             }
            },
            "type": "scattermapbox"
           }
          ],
          "scatterpolar": [
           {
            "marker": {
             "colorbar": {
              "outlinewidth": 0,
              "ticks": ""
             }
            },
            "type": "scatterpolar"
           }
          ],
          "scatterpolargl": [
           {
            "marker": {
             "colorbar": {
              "outlinewidth": 0,
              "ticks": ""
             }
            },
            "type": "scatterpolargl"
           }
          ],
          "scatterternary": [
           {
            "marker": {
             "colorbar": {
              "outlinewidth": 0,
              "ticks": ""
             }
            },
            "type": "scatterternary"
           }
          ],
          "surface": [
           {
            "colorbar": {
             "outlinewidth": 0,
             "ticks": ""
            },
            "colorscale": [
             [
              0,
              "#0d0887"
             ],
             [
              0.1111111111111111,
              "#46039f"
             ],
             [
              0.2222222222222222,
              "#7201a8"
             ],
             [
              0.3333333333333333,
              "#9c179e"
             ],
             [
              0.4444444444444444,
              "#bd3786"
             ],
             [
              0.5555555555555556,
              "#d8576b"
             ],
             [
              0.6666666666666666,
              "#ed7953"
             ],
             [
              0.7777777777777778,
              "#fb9f3a"
             ],
             [
              0.8888888888888888,
              "#fdca26"
             ],
             [
              1,
              "#f0f921"
             ]
            ],
            "type": "surface"
           }
          ],
          "table": [
           {
            "cells": {
             "fill": {
              "color": "#EBF0F8"
             },
             "line": {
              "color": "white"
             }
            },
            "header": {
             "fill": {
              "color": "#C8D4E3"
             },
             "line": {
              "color": "white"
             }
            },
            "type": "table"
           }
          ]
         },
         "layout": {
          "annotationdefaults": {
           "arrowcolor": "#2a3f5f",
           "arrowhead": 0,
           "arrowwidth": 1
          },
          "autotypenumbers": "strict",
          "coloraxis": {
           "colorbar": {
            "outlinewidth": 0,
            "ticks": ""
           }
          },
          "colorscale": {
           "diverging": [
            [
             0,
             "#8e0152"
            ],
            [
             0.1,
             "#c51b7d"
            ],
            [
             0.2,
             "#de77ae"
            ],
            [
             0.3,
             "#f1b6da"
            ],
            [
             0.4,
             "#fde0ef"
            ],
            [
             0.5,
             "#f7f7f7"
            ],
            [
             0.6,
             "#e6f5d0"
            ],
            [
             0.7,
             "#b8e186"
            ],
            [
             0.8,
             "#7fbc41"
            ],
            [
             0.9,
             "#4d9221"
            ],
            [
             1,
             "#276419"
            ]
           ],
           "sequential": [
            [
             0,
             "#0d0887"
            ],
            [
             0.1111111111111111,
             "#46039f"
            ],
            [
             0.2222222222222222,
             "#7201a8"
            ],
            [
             0.3333333333333333,
             "#9c179e"
            ],
            [
             0.4444444444444444,
             "#bd3786"
            ],
            [
             0.5555555555555556,
             "#d8576b"
            ],
            [
             0.6666666666666666,
             "#ed7953"
            ],
            [
             0.7777777777777778,
             "#fb9f3a"
            ],
            [
             0.8888888888888888,
             "#fdca26"
            ],
            [
             1,
             "#f0f921"
            ]
           ],
           "sequentialminus": [
            [
             0,
             "#0d0887"
            ],
            [
             0.1111111111111111,
             "#46039f"
            ],
            [
             0.2222222222222222,
             "#7201a8"
            ],
            [
             0.3333333333333333,
             "#9c179e"
            ],
            [
             0.4444444444444444,
             "#bd3786"
            ],
            [
             0.5555555555555556,
             "#d8576b"
            ],
            [
             0.6666666666666666,
             "#ed7953"
            ],
            [
             0.7777777777777778,
             "#fb9f3a"
            ],
            [
             0.8888888888888888,
             "#fdca26"
            ],
            [
             1,
             "#f0f921"
            ]
           ]
          },
          "colorway": [
           "#636efa",
           "#EF553B",
           "#00cc96",
           "#ab63fa",
           "#FFA15A",
           "#19d3f3",
           "#FF6692",
           "#B6E880",
           "#FF97FF",
           "#FECB52"
          ],
          "font": {
           "color": "#2a3f5f"
          },
          "geo": {
           "bgcolor": "white",
           "lakecolor": "white",
           "landcolor": "#E5ECF6",
           "showlakes": true,
           "showland": true,
           "subunitcolor": "white"
          },
          "hoverlabel": {
           "align": "left"
          },
          "hovermode": "closest",
          "mapbox": {
           "style": "light"
          },
          "paper_bgcolor": "white",
          "plot_bgcolor": "#E5ECF6",
          "polar": {
           "angularaxis": {
            "gridcolor": "white",
            "linecolor": "white",
            "ticks": ""
           },
           "bgcolor": "#E5ECF6",
           "radialaxis": {
            "gridcolor": "white",
            "linecolor": "white",
            "ticks": ""
           }
          },
          "scene": {
           "xaxis": {
            "backgroundcolor": "#E5ECF6",
            "gridcolor": "white",
            "gridwidth": 2,
            "linecolor": "white",
            "showbackground": true,
            "ticks": "",
            "zerolinecolor": "white"
           },
           "yaxis": {
            "backgroundcolor": "#E5ECF6",
            "gridcolor": "white",
            "gridwidth": 2,
            "linecolor": "white",
            "showbackground": true,
            "ticks": "",
            "zerolinecolor": "white"
           },
           "zaxis": {
            "backgroundcolor": "#E5ECF6",
            "gridcolor": "white",
            "gridwidth": 2,
            "linecolor": "white",
            "showbackground": true,
            "ticks": "",
            "zerolinecolor": "white"
           }
          },
          "shapedefaults": {
           "line": {
            "color": "#2a3f5f"
           }
          },
          "ternary": {
           "aaxis": {
            "gridcolor": "white",
            "linecolor": "white",
            "ticks": ""
           },
           "baxis": {
            "gridcolor": "white",
            "linecolor": "white",
            "ticks": ""
           },
           "bgcolor": "#E5ECF6",
           "caxis": {
            "gridcolor": "white",
            "linecolor": "white",
            "ticks": ""
           }
          },
          "title": {
           "x": 0.05
          },
          "xaxis": {
           "automargin": true,
           "gridcolor": "white",
           "linecolor": "white",
           "ticks": "",
           "title": {
            "standoff": 15
           },
           "zerolinecolor": "white",
           "zerolinewidth": 2
          },
          "yaxis": {
           "automargin": true,
           "gridcolor": "white",
           "linecolor": "white",
           "ticks": "",
           "title": {
            "standoff": 15
           },
           "zerolinecolor": "white",
           "zerolinewidth": 2
          }
         }
        }
       }
      }
     },
     "metadata": {},
     "output_type": "display_data"
    }
   ],
   "source": [
    "import plotly\n",
    "import plotly.express as px\n",
    "from umap import UMAP\n",
    "\n",
    "umap_3d = UMAP(n_components=3, init='random', random_state=0)\n",
    "x_umap = umap_3d.fit_transform(X_new_scaled)\n",
    "\n",
    "#umap_3d = TSNE(n_components=3, init='random', random_state=0)\n",
    "#x_umap = umap_3d.fit_transform(X_new_scaled)\n",
    "\n",
    "umap_df = pd.DataFrame(x_umap)\n",
    "train_y_sr = pd.Series(y,name='class')\n",
    "print(type(x_umap))\n",
    "new_df = pd.concat([umap_df,train_y_sr],axis=1)\n",
    "fig = px.scatter_3d(\n",
    "    new_df, x=0, y=1, z=2,\n",
    "    color='class', labels={'color': 'number'}\n",
    ")\n",
    "fig.update_traces(marker_size=3)\n",
    "fig.show()"
   ]
  },
  {
   "cell_type": "code",
   "execution_count": null,
   "metadata": {},
   "outputs": [],
   "source": []
  }
 ],
 "metadata": {
  "kernelspec": {
   "display_name": "darwin",
   "language": "python",
   "name": "python3"
  },
  "language_info": {
   "codemirror_mode": {
    "name": "ipython",
    "version": 3
   },
   "file_extension": ".py",
   "mimetype": "text/x-python",
   "name": "python",
   "nbconvert_exporter": "python",
   "pygments_lexer": "ipython3",
   "version": "3.10.13"
  }
 },
 "nbformat": 4,
 "nbformat_minor": 2
}
