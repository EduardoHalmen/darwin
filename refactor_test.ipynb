{
 "cells": [
  {
   "cell_type": "markdown",
   "metadata": {},
   "source": [
    "# The DARWIN Dataset\n",
    "\n",
    "We'll be working with the DARWIN dataset. The DARWIN dataset includes handwriting data of 174 participants. And the task is to classify and distinguish Alzheimer's disease patients from healthy people."
   ]
  },
  {
   "cell_type": "markdown",
   "metadata": {},
   "source": [
    "## Motivation\n",
    "\n",
    "This notebook intention is to focus on how to study a dataset, to perform feature selecting and to identify most relevant features in the dataset. The classification task and model are secondary and are dealt breifly at the end of the notebook.\n",
    "\n",
    "Let's start by having a look at the dataset"
   ]
  },
  {
   "cell_type": "code",
   "execution_count": 1,
   "metadata": {},
   "outputs": [],
   "source": [
    "import pandas as pd\n",
    "import numpy as np\n",
    "import matplotlib.pyplot as plt\n",
    "import seaborn as sns\n",
    "\n",
    "# Remove annoying chained assignment warnings\n",
    "# for more info see: https://pandas.pydata.org/pandas-docs/stable/user_guide/indexing.html#returning-a-view-versus-a-copy\n",
    "pd.options.mode.chained_assignment = None # default='warn'\n"
   ]
  },
  {
   "cell_type": "code",
   "execution_count": 139,
   "metadata": {},
   "outputs": [
    {
     "data": {
      "text/html": [
       "<div>\n",
       "<style scoped>\n",
       "    .dataframe tbody tr th:only-of-type {\n",
       "        vertical-align: middle;\n",
       "    }\n",
       "\n",
       "    .dataframe tbody tr th {\n",
       "        vertical-align: top;\n",
       "    }\n",
       "\n",
       "    .dataframe thead th {\n",
       "        text-align: right;\n",
       "    }\n",
       "</style>\n",
       "<table border=\"1\" class=\"dataframe\">\n",
       "  <thead>\n",
       "    <tr style=\"text-align: right;\">\n",
       "      <th></th>\n",
       "      <th>ID</th>\n",
       "      <th>air_time1</th>\n",
       "      <th>disp_index1</th>\n",
       "      <th>gmrt_in_air1</th>\n",
       "      <th>gmrt_on_paper1</th>\n",
       "      <th>max_x_extension1</th>\n",
       "      <th>max_y_extension1</th>\n",
       "      <th>mean_acc_in_air1</th>\n",
       "      <th>mean_acc_on_paper1</th>\n",
       "      <th>mean_gmrt1</th>\n",
       "      <th>...</th>\n",
       "      <th>mean_gmrt25</th>\n",
       "      <th>mean_jerk_in_air25</th>\n",
       "      <th>mean_jerk_on_paper25</th>\n",
       "      <th>mean_speed_in_air25</th>\n",
       "      <th>mean_speed_on_paper25</th>\n",
       "      <th>num_of_pendown25</th>\n",
       "      <th>paper_time25</th>\n",
       "      <th>pressure_mean25</th>\n",
       "      <th>pressure_var25</th>\n",
       "      <th>total_time25</th>\n",
       "    </tr>\n",
       "  </thead>\n",
       "  <tbody>\n",
       "    <tr>\n",
       "      <th>0</th>\n",
       "      <td>id_1</td>\n",
       "      <td>5160</td>\n",
       "      <td>0.000013</td>\n",
       "      <td>120.804174</td>\n",
       "      <td>86.853334</td>\n",
       "      <td>957</td>\n",
       "      <td>6601</td>\n",
       "      <td>0.361800</td>\n",
       "      <td>0.217459</td>\n",
       "      <td>103.828754</td>\n",
       "      <td>...</td>\n",
       "      <td>249.729085</td>\n",
       "      <td>0.141434</td>\n",
       "      <td>0.024471</td>\n",
       "      <td>5.596487</td>\n",
       "      <td>3.184589</td>\n",
       "      <td>71</td>\n",
       "      <td>40120</td>\n",
       "      <td>1749.278166</td>\n",
       "      <td>296102.7676</td>\n",
       "      <td>144605</td>\n",
       "    </tr>\n",
       "    <tr>\n",
       "      <th>1</th>\n",
       "      <td>id_2</td>\n",
       "      <td>51980</td>\n",
       "      <td>0.000016</td>\n",
       "      <td>115.318238</td>\n",
       "      <td>83.448681</td>\n",
       "      <td>1694</td>\n",
       "      <td>6998</td>\n",
       "      <td>0.272513</td>\n",
       "      <td>0.144880</td>\n",
       "      <td>99.383459</td>\n",
       "      <td>...</td>\n",
       "      <td>77.258394</td>\n",
       "      <td>0.049663</td>\n",
       "      <td>0.018368</td>\n",
       "      <td>1.665973</td>\n",
       "      <td>0.950249</td>\n",
       "      <td>129</td>\n",
       "      <td>126700</td>\n",
       "      <td>1504.768272</td>\n",
       "      <td>278744.2850</td>\n",
       "      <td>298640</td>\n",
       "    </tr>\n",
       "    <tr>\n",
       "      <th>2</th>\n",
       "      <td>id_3</td>\n",
       "      <td>2600</td>\n",
       "      <td>0.000010</td>\n",
       "      <td>229.933997</td>\n",
       "      <td>172.761858</td>\n",
       "      <td>2333</td>\n",
       "      <td>5802</td>\n",
       "      <td>0.387020</td>\n",
       "      <td>0.181342</td>\n",
       "      <td>201.347928</td>\n",
       "      <td>...</td>\n",
       "      <td>193.667018</td>\n",
       "      <td>0.178194</td>\n",
       "      <td>0.017174</td>\n",
       "      <td>4.000781</td>\n",
       "      <td>2.392521</td>\n",
       "      <td>74</td>\n",
       "      <td>45480</td>\n",
       "      <td>1431.443492</td>\n",
       "      <td>144411.7055</td>\n",
       "      <td>79025</td>\n",
       "    </tr>\n",
       "    <tr>\n",
       "      <th>3</th>\n",
       "      <td>id_4</td>\n",
       "      <td>2130</td>\n",
       "      <td>0.000010</td>\n",
       "      <td>369.403342</td>\n",
       "      <td>183.193104</td>\n",
       "      <td>1756</td>\n",
       "      <td>8159</td>\n",
       "      <td>0.556879</td>\n",
       "      <td>0.164502</td>\n",
       "      <td>276.298223</td>\n",
       "      <td>...</td>\n",
       "      <td>163.065803</td>\n",
       "      <td>0.113905</td>\n",
       "      <td>0.019860</td>\n",
       "      <td>4.206746</td>\n",
       "      <td>1.613522</td>\n",
       "      <td>123</td>\n",
       "      <td>67945</td>\n",
       "      <td>1465.843329</td>\n",
       "      <td>230184.7154</td>\n",
       "      <td>181220</td>\n",
       "    </tr>\n",
       "    <tr>\n",
       "      <th>4</th>\n",
       "      <td>id_5</td>\n",
       "      <td>2310</td>\n",
       "      <td>0.000007</td>\n",
       "      <td>257.997131</td>\n",
       "      <td>111.275889</td>\n",
       "      <td>987</td>\n",
       "      <td>4732</td>\n",
       "      <td>0.266077</td>\n",
       "      <td>0.145104</td>\n",
       "      <td>184.636510</td>\n",
       "      <td>...</td>\n",
       "      <td>147.094679</td>\n",
       "      <td>0.121782</td>\n",
       "      <td>0.020872</td>\n",
       "      <td>3.319036</td>\n",
       "      <td>1.680629</td>\n",
       "      <td>92</td>\n",
       "      <td>37285</td>\n",
       "      <td>1841.702561</td>\n",
       "      <td>158290.0255</td>\n",
       "      <td>72575</td>\n",
       "    </tr>\n",
       "  </tbody>\n",
       "</table>\n",
       "<p>5 rows × 451 columns</p>\n",
       "</div>"
      ],
      "text/plain": [
       "     ID  air_time1  disp_index1  gmrt_in_air1  gmrt_on_paper1  \\\n",
       "0  id_1       5160     0.000013    120.804174       86.853334   \n",
       "1  id_2      51980     0.000016    115.318238       83.448681   \n",
       "2  id_3       2600     0.000010    229.933997      172.761858   \n",
       "3  id_4       2130     0.000010    369.403342      183.193104   \n",
       "4  id_5       2310     0.000007    257.997131      111.275889   \n",
       "\n",
       "   max_x_extension1  max_y_extension1  mean_acc_in_air1  mean_acc_on_paper1  \\\n",
       "0               957              6601          0.361800            0.217459   \n",
       "1              1694              6998          0.272513            0.144880   \n",
       "2              2333              5802          0.387020            0.181342   \n",
       "3              1756              8159          0.556879            0.164502   \n",
       "4               987              4732          0.266077            0.145104   \n",
       "\n",
       "   mean_gmrt1  ...  mean_gmrt25  mean_jerk_in_air25  mean_jerk_on_paper25  \\\n",
       "0  103.828754  ...   249.729085            0.141434              0.024471   \n",
       "1   99.383459  ...    77.258394            0.049663              0.018368   \n",
       "2  201.347928  ...   193.667018            0.178194              0.017174   \n",
       "3  276.298223  ...   163.065803            0.113905              0.019860   \n",
       "4  184.636510  ...   147.094679            0.121782              0.020872   \n",
       "\n",
       "   mean_speed_in_air25  mean_speed_on_paper25  num_of_pendown25  paper_time25  \\\n",
       "0             5.596487               3.184589                71         40120   \n",
       "1             1.665973               0.950249               129        126700   \n",
       "2             4.000781               2.392521                74         45480   \n",
       "3             4.206746               1.613522               123         67945   \n",
       "4             3.319036               1.680629                92         37285   \n",
       "\n",
       "   pressure_mean25  pressure_var25  total_time25  \n",
       "0      1749.278166     296102.7676        144605  \n",
       "1      1504.768272     278744.2850        298640  \n",
       "2      1431.443492     144411.7055         79025  \n",
       "3      1465.843329     230184.7154        181220  \n",
       "4      1841.702561     158290.0255         72575  \n",
       "\n",
       "[5 rows x 451 columns]"
      ]
     },
     "execution_count": 139,
     "metadata": {},
     "output_type": "execute_result"
    }
   ],
   "source": [
    "from ucimlrepo import fetch_ucirepo \n",
    "\n",
    "# Fetch dataset \n",
    "darwin = fetch_ucirepo(id=732) \n",
    "  \n",
    "# Data (as pandas dataframes) \n",
    "X = darwin.data.features \n",
    "y = darwin.data.targets \n",
    "\n",
    "# Save the original data in case we need it later \n",
    "original_X = X.copy()\n",
    "original_y = y.copy()\n",
    "\n",
    "# Overview of the dataset\n",
    "X.head()"
   ]
  },
  {
   "cell_type": "markdown",
   "metadata": {},
   "source": [
    "### What are these features?\n",
    "\n",
    "You might be a little surprised by this dataset, wasn t it supposed to include handwritten data? Why are the features labeled air_time1 or pressure_var25? If you re like me, you might have presumed the data to be composed by, perhaps, images of handwritten text, and this notebook were to involve a computer vision solution to it. Nevertheless, these are the features we have to work on and if you think a little bit, it makes perfect sense for the data to consist of pen and paper measurements rather than handwritten images.\n",
    "\n",
    "Let's take a look at the dataset information"
   ]
  },
  {
   "cell_type": "code",
   "execution_count": 113,
   "metadata": {},
   "outputs": [
    {
     "name": "stdout",
     "output_type": "stream",
     "text": [
      "<class 'pandas.core.frame.DataFrame'>\n",
      "RangeIndex: 174 entries, 0 to 173\n",
      "Columns: 451 entries, ID to total_time25\n",
      "dtypes: float64(300), int64(150), object(1)\n",
      "memory usage: 613.2+ KB\n"
     ]
    }
   ],
   "source": [
    "X.info()"
   ]
  },
  {
   "cell_type": "markdown",
   "metadata": {},
   "source": [
    "Cool, so the data has 174 instances, and 451 features which 450 are numerical and 1 is categorical. The categorical column is certainly the ID column, composed of string objects."
   ]
  },
  {
   "cell_type": "code",
   "execution_count": null,
   "metadata": {},
   "outputs": [],
   "source": [
    "# TODO: check if this code is really necessary, output is too big\n",
    "feature_names = X.columns.to_list()\n",
    "i = 0\n",
    "for name in feature_names:    \n",
    "    if  i % 18 == 0:\n",
    "        # Every 18 features print a line break\n",
    "        print(\"\")\n",
    "        \n",
    "    # If statement for formatting feature names to have the same length\n",
    "    # i.e. air_time1 has 9 characters, nad air_time10 has 10\n",
    "    if i < 180-18:\n",
    "        print(name, end=\" , \")\n",
    "    else:\n",
    "        print(name, end=\", \")\n",
    "    i += 1"
   ]
  },
  {
   "cell_type": "markdown",
   "metadata": {},
   "source": [
    "### The features\n",
    "The article [Handwriting Task-Selection based on the Analysis of Patterns in Classification Results on Alzheimer Dataset](https://ceur-ws.org/Vol-3521/paper2.pdf) has a good description of how the data and experiments were set-up. The article does the exact same thing we're trying to do here, so reading it feels like cheating let's only read a few things about the dataset for better understanding. From the article, we see that participants were asked to perform 25 handwriting taks and from each task 18 measurements were extracted using a digital table. \n",
    "\n",
    "From the article: \"The extracted features are related to the time spent to complete the task (total time); such time were also divided in on-paper time and in-air time; the average speed, acceleration and jerk computed separately for on-paper movements and in-airmovements; mean and variance ofthe pressure; the Generalization of the Mean Relative Tremor (GMRT), which consists of the average of the sum of thedifferences between the i-th point and its d-th predecessor, firstly divided on-paper and in-air values, and the averagingthe previous values; the maximal extension about x and y axis; and finally the Dispersion Index which consists ofdividing the paper sheet in fixed-size boxes (e.g. 3x3) then counting how many boxes are covered by the handwritingtraits and successively dividing that number with the total amount of the boxes; in this way, the coverage ratio of thepaper sheet is computed.\"\n",
    "\n",
    "A description for each task can be found in the article"
   ]
  },
  {
   "cell_type": "markdown",
   "metadata": {},
   "source": [
    "Now that we have a good understanding of the data we can start by selecting the most relevant features in the dataset"
   ]
  },
  {
   "cell_type": "markdown",
   "metadata": {},
   "source": [
    "## Feature Selection\n",
    "\n",
    "Let's start by removing the categorical 'ID' column that we mentioned earlier."
   ]
  },
  {
   "cell_type": "code",
   "execution_count": 140,
   "metadata": {},
   "outputs": [],
   "source": [
    "# Drops the object columns\n",
    "X.drop(X.select_dtypes(include='object').columns[0], axis='columns', inplace=True)"
   ]
  },
  {
   "cell_type": "markdown",
   "metadata": {},
   "source": [
    "We can check for the target data aswell"
   ]
  },
  {
   "cell_type": "code",
   "execution_count": 119,
   "metadata": {},
   "outputs": [
    {
     "data": {
      "text/plain": [
       "class\n",
       "P        89\n",
       "H        85\n",
       "Name: count, dtype: int64"
      ]
     },
     "execution_count": 119,
     "metadata": {},
     "output_type": "execute_result"
    }
   ],
   "source": [
    "# Check for class distribution and type\n",
    "y.value_counts()"
   ]
  },
  {
   "cell_type": "markdown",
   "metadata": {},
   "source": [
    "The classes are well balanced, however their types are not numerical. We can easily change that; checking the article 'H' labels the 85 healthy instances of the set, 'P' labels the subjects that suffer from Alzheimer "
   ]
  },
  {
   "cell_type": "code",
   "execution_count": 141,
   "metadata": {},
   "outputs": [],
   "source": [
    "# Map 'H' for healthy and 'P' for Alzheimer's to 0 and 1 respectively\n",
    "y['class'] = y['class'].map( {'H': 0, 'P': 1} ).astype(int)"
   ]
  },
  {
   "cell_type": "markdown",
   "metadata": {},
   "source": [
    "Check the missing values"
   ]
  },
  {
   "cell_type": "code",
   "execution_count": 121,
   "metadata": {},
   "outputs": [
    {
     "data": {
      "text/plain": [
       "False"
      ]
     },
     "execution_count": 121,
     "metadata": {},
     "output_type": "execute_result"
    }
   ],
   "source": [
    "# Check for missing values\n",
    "X.isnull().values.any()"
   ]
  },
  {
   "cell_type": "markdown",
   "metadata": {},
   "source": [
    "## Low variance filtering"
   ]
  },
  {
   "cell_type": "code",
   "execution_count": 142,
   "metadata": {},
   "outputs": [
    {
     "data": {
      "text/plain": [
       "(174, 339)"
      ]
     },
     "execution_count": 142,
     "metadata": {},
     "output_type": "execute_result"
    }
   ],
   "source": [
    "var = X.var()\n",
    "threshold = 0.10\n",
    "low_var_features = var[var <= threshold].index\n",
    "filtered_X = X.drop(columns=low_var_features)\n",
    "filtered_X.shape"
   ]
  },
  {
   "cell_type": "markdown",
   "metadata": {},
   "source": [
    "## High Correlation Filtering"
   ]
  },
  {
   "cell_type": "code",
   "execution_count": 143,
   "metadata": {},
   "outputs": [
    {
     "name": "stdout",
     "output_type": "stream",
     "text": [
      "mean_acc_on_paper1 gmrt_on_paper1 0.8754776988010367\n",
      "mean_gmrt1 gmrt_in_air1 0.9403247899487648\n",
      "mean_gmrt1 gmrt_on_paper1 0.8280118833150759\n",
      "mean_jerk_in_air1 mean_acc_in_air1 0.9880054182174897\n",
      "mean_jerk_on_paper1 gmrt_on_paper1 0.7386899624424236\n",
      "mean_jerk_on_paper1 mean_acc_on_paper1 0.8860710536615439\n",
      "mean_speed_in_air1 gmrt_in_air1 0.8267493750697141\n",
      "mean_speed_in_air1 mean_gmrt1 0.863950062247893\n",
      "mean_speed_on_paper1 gmrt_on_paper1 0.985556702901547\n",
      "mean_speed_on_paper1 mean_acc_on_paper1 0.8965237270042213\n",
      "mean_speed_on_paper1 mean_gmrt1 0.82204122897459\n",
      "mean_speed_on_paper1 mean_jerk_on_paper1 0.7493821561736261\n",
      "paper_time1 disp_index1 0.8083750418981234\n",
      "paper_time1 num_of_pendown1 0.7260579992580162\n",
      "total_time1 air_time1 0.9729016440962951\n",
      "total_time1 paper_time1 0.7571731577489984\n",
      "mean_gmrt2 gmrt_in_air2 0.9322191541734152\n",
      "mean_jerk_in_air2 mean_acc_in_air2 0.9945755216376909\n",
      "mean_jerk_on_paper2 mean_acc_on_paper2 0.8184151065423867\n",
      "mean_speed_on_paper2 gmrt_on_paper2 0.8965368125163153\n",
      "num_of_pendown2 air_time2 0.8789148929316812\n",
      "paper_time2 air_time2 0.7308402139757899\n",
      "paper_time2 disp_index2 0.7679083590330881\n",
      "total_time2 air_time2 0.964097586170197\n",
      "total_time2 num_of_pendown2 0.8693655884272613\n",
      "total_time2 paper_time2 0.8858508336158856\n",
      "mean_gmrt3 gmrt_in_air3 0.9332395697918419\n",
      "mean_jerk_in_air3 mean_acc_in_air3 0.9966597855062849\n",
      "mean_jerk_on_paper3 mean_acc_on_paper3 0.8025417741409375\n",
      "mean_speed_on_paper3 gmrt_on_paper3 0.899824344670152\n",
      "paper_time3 disp_index3 0.8427079482163873\n",
      "pressure_var3 num_of_pendown3 0.7193333359788975\n",
      "total_time3 air_time3 0.8475158891445336\n",
      "total_time3 paper_time3 0.8147123530025376\n",
      "max_y_extension4 max_x_extension4 0.7702212905567009\n",
      "mean_gmrt4 gmrt_in_air4 0.9449490476939105\n",
      "mean_jerk_in_air4 mean_acc_in_air4 0.9961336839229944\n",
      "mean_jerk_on_paper4 mean_acc_on_paper4 0.8690963098188884\n",
      "mean_speed_in_air4 gmrt_in_air4 0.7763628613456931\n",
      "mean_speed_in_air4 mean_acc_in_air4 0.7628805236719157\n",
      "mean_speed_in_air4 mean_gmrt4 0.7886784775183545\n",
      "mean_speed_in_air4 mean_jerk_in_air4 0.7461918559293699\n",
      "mean_speed_on_paper4 gmrt_on_paper4 0.9887497362976088\n",
      "num_of_pendown4 air_time2 0.7092176201253756\n",
      "total_time4 air_time4 0.9368475553061383\n",
      "max_y_extension5 disp_index5 0.8501360710096053\n",
      "max_y_extension5 max_x_extension5 0.7070883888654333\n",
      "mean_gmrt5 gmrt_in_air5 0.8815802248648543\n",
      "mean_jerk_in_air5 mean_acc_in_air5 0.9694523209634498\n",
      "mean_jerk_on_paper5 mean_acc_on_paper5 0.8418534736135144\n",
      "mean_speed_on_paper5 gmrt_on_paper5 0.9902297138210758\n",
      "total_time5 air_time5 0.8416947842830247\n",
      "total_time5 paper_time5 0.9054223734383429\n",
      "mean_acc_in_air6 gmrt_in_air6 0.7280916932338998\n",
      "mean_acc_on_paper6 gmrt_on_paper6 0.7055482579554098\n",
      "mean_gmrt6 gmrt_in_air6 0.8599718289033768\n",
      "mean_gmrt6 gmrt_on_paper6 0.7771394408544724\n",
      "mean_jerk_in_air6 gmrt_in_air6 0.7285227948069322\n",
      "mean_jerk_in_air6 mean_acc_in_air6 0.9994595652670057\n",
      "mean_jerk_on_paper6 mean_acc_on_paper6 0.8417268832281162\n",
      "mean_speed_in_air6 gmrt_in_air6 0.9482112070743901\n",
      "mean_speed_in_air6 mean_acc_in_air6 0.8033660362491901\n",
      "mean_speed_in_air6 mean_gmrt6 0.8094397094297926\n",
      "mean_speed_in_air6 mean_jerk_in_air6 0.8007474889958555\n",
      "mean_speed_on_paper6 gmrt_on_paper6 0.9724718883311657\n",
      "mean_speed_on_paper6 mean_acc_on_paper6 0.7371660135589427\n",
      "mean_speed_on_paper6 mean_gmrt6 0.774425056003862\n",
      "paper_time6 disp_index6 0.8042056302778947\n",
      "paper_time6 num_of_pendown6 0.7161838561585808\n",
      "pressure_mean6 pressure_mean4 0.7356337143185654\n",
      "total_time6 air_time6 0.9841770428151237\n",
      "total_time6 disp_index6 0.7180994576488955\n",
      "total_time6 paper_time6 0.7899699924769169\n",
      "gmrt_on_paper7 disp_index7 -0.7101777690058696\n",
      "mean_acc_in_air7 gmrt_in_air7 0.7902060050159632\n",
      "mean_acc_on_paper7 gmrt_on_paper7 0.7040731853306709\n",
      "mean_gmrt7 gmrt_in_air7 0.8619467880278243\n",
      "mean_gmrt7 gmrt_on_paper7 0.9256794446465884\n",
      "mean_jerk_in_air7 gmrt_in_air7 0.7882502537898437\n",
      "mean_jerk_in_air7 mean_acc_in_air7 0.9996565043185508\n",
      "mean_jerk_on_paper7 gmrt_on_paper7 0.7574072335202598\n",
      "mean_jerk_on_paper7 mean_acc_on_paper7 0.8947116690052549\n",
      "mean_speed_in_air7 gmrt_in_air7 0.989095290001371\n",
      "mean_speed_in_air7 mean_acc_in_air7 0.8127833805065391\n",
      "mean_speed_in_air7 mean_gmrt7 0.8412436120178903\n",
      "mean_speed_in_air7 mean_jerk_in_air7 0.8096334653219897\n",
      "mean_speed_on_paper7 gmrt_on_paper7 0.9606891121245146\n",
      "mean_speed_on_paper7 mean_acc_on_paper7 0.716698265521189\n",
      "mean_speed_on_paper7 mean_gmrt7 0.8857534158645\n",
      "mean_speed_on_paper7 mean_jerk_on_paper7 0.7638884536990209\n",
      "paper_time7 disp_index7 0.8545558644918035\n",
      "pressure_mean7 pressure_mean6 0.7151129697733097\n",
      "total_time7 air_time7 0.9953950273895283\n",
      "mean_gmrt8 gmrt_in_air8 0.9683888515444512\n",
      "mean_jerk_in_air8 mean_acc_in_air8 0.9962091417634231\n",
      "mean_jerk_on_paper8 mean_acc_on_paper8 0.8172124767954615\n",
      "mean_speed_on_paper8 gmrt_on_paper8 0.9962538475065228\n",
      "num_of_pendown8 air_time8 0.7888484001118938\n",
      "paper_time8 air_time6 0.7014362597675908\n",
      "paper_time8 paper_time6 0.7353694851787946\n",
      "paper_time8 total_time6 0.753791173999777\n",
      "paper_time8 disp_index8 0.8377857642732253\n",
      "pressure_mean8 pressure_mean6 0.7425686632919924\n",
      "total_time8 air_time8 0.9303655747198522\n",
      "total_time8 disp_index8 0.7030563129227766\n",
      "total_time8 num_of_pendown8 0.8023515546393086\n",
      "total_time8 paper_time8 0.8214771677410876\n",
      "mean_gmrt9 gmrt_in_air9 0.9767525221580303\n",
      "mean_jerk_in_air9 mean_acc_in_air9 0.9984873521607981\n",
      "mean_jerk_on_paper9 mean_acc_on_paper9 0.7924669487571997\n",
      "mean_speed_on_paper9 gmrt_on_paper9 0.9895011719290043\n",
      "num_of_pendown9 air_time9 0.8088607376395307\n",
      "pressure_var9 num_of_pendown9 0.7230577085956243\n",
      "total_time9 air_time9 0.94531522099377\n",
      "total_time9 num_of_pendown9 0.8061605587021986\n",
      "total_time9 paper_time9 0.7865419678474124\n",
      "mean_acc_on_paper10 gmrt_on_paper10 0.7348304439775928\n",
      "mean_gmrt10 gmrt_in_air10 0.9107639918934106\n",
      "mean_gmrt10 gmrt_on_paper10 0.8153897838691555\n",
      "mean_jerk_in_air10 mean_acc_in_air10 0.9932491029322764\n",
      "mean_jerk_on_paper10 mean_acc_on_paper10 0.83824473556117\n",
      "mean_speed_in_air10 gmrt_in_air10 0.8040048244332718\n",
      "mean_speed_in_air10 mean_gmrt10 0.7369950718154594\n",
      "mean_speed_on_paper10 gmrt_on_paper10 0.9866983743763376\n",
      "mean_speed_on_paper10 mean_acc_on_paper10 0.7453391924799885\n",
      "mean_speed_on_paper10 mean_gmrt10 0.8252033627335318\n",
      "num_of_pendown10 air_time10 0.7185058799088717\n",
      "paper_time10 air_time10 0.7540521394815218\n",
      "paper_time10 num_of_pendown10 0.7117960321711303\n",
      "total_time10 air_time10 0.9779300532632187\n",
      "total_time10 num_of_pendown10 0.756727085421026\n",
      "total_time10 paper_time10 0.8746401913210824\n",
      "disp_index11 disp_index10 0.7829776648439877\n",
      "gmrt_on_paper11 gmrt_on_paper10 0.8547001733683294\n",
      "gmrt_on_paper11 mean_gmrt10 0.7214806410721271\n",
      "gmrt_on_paper11 mean_speed_on_paper10 0.8450337670456146\n",
      "max_y_extension11 max_y_extension10 0.7575169703361907\n",
      "mean_acc_on_paper11 mean_acc_on_paper10 0.7632339915599151\n",
      "mean_acc_on_paper11 gmrt_on_paper11 0.7393468217104338\n",
      "mean_gmrt11 gmrt_on_paper10 0.7491013411007743\n",
      "mean_gmrt11 mean_gmrt10 0.7304542689783781\n",
      "mean_gmrt11 mean_speed_on_paper10 0.7518663340049901\n",
      "mean_gmrt11 gmrt_in_air11 0.8722883847220742\n",
      "mean_gmrt11 gmrt_on_paper11 0.8437600442021792\n",
      "mean_jerk_in_air11 mean_acc_in_air11 0.9966816694506374\n",
      "mean_jerk_on_paper11 mean_acc_on_paper11 0.8567925711257997\n",
      "mean_speed_in_air11 gmrt_in_air11 0.8176903679810654\n",
      "mean_speed_in_air11 mean_gmrt11 0.7261963974290768\n",
      "mean_speed_on_paper11 gmrt_on_paper10 0.8514202555694683\n",
      "mean_speed_on_paper11 mean_gmrt10 0.7296049349076682\n",
      "mean_speed_on_paper11 mean_speed_on_paper10 0.8611847313387788\n",
      "mean_speed_on_paper11 gmrt_on_paper11 0.9819345800311631\n",
      "mean_speed_on_paper11 mean_acc_on_paper11 0.7554907074852051\n",
      "mean_speed_on_paper11 mean_gmrt11 0.8432519133674157\n",
      "paper_time11 paper_time10 0.750503889970253\n",
      "paper_time11 total_time10 0.7386960701260714\n",
      "pressure_mean11 pressure_mean10 0.9265548461457376\n",
      "total_time11 air_time11 0.9980103350590477\n",
      "mean_gmrt12 gmrt_in_air12 0.9823379021821154\n",
      "mean_jerk_in_air12 mean_acc_in_air12 0.9883752549243653\n",
      "mean_jerk_on_paper12 mean_acc_on_paper12 0.8575321084372024\n",
      "mean_speed_on_paper12 gmrt_on_paper12 0.9899965240611555\n",
      "total_time12 air_time12 0.9968048484504889\n",
      "gmrt_on_paper13 gmrt_on_paper10 0.7229024752221486\n",
      "gmrt_on_paper13 gmrt_on_paper11 0.7178410570544546\n",
      "gmrt_on_paper13 mean_speed_on_paper11 0.7076712678174759\n",
      "mean_gmrt13 gmrt_in_air13 0.9633672031030617\n",
      "mean_jerk_in_air13 mean_acc_in_air13 0.9978810497284833\n",
      "mean_jerk_on_paper13 mean_acc_on_paper13 0.804902350566086\n",
      "mean_speed_in_air13 gmrt_in_air13 0.7493598930985252\n",
      "mean_speed_in_air13 mean_acc_in_air13 0.7778621053654857\n",
      "mean_speed_in_air13 mean_gmrt13 0.7480225348342703\n",
      "mean_speed_in_air13 mean_jerk_in_air13 0.7667152646352906\n",
      "mean_speed_on_paper13 gmrt_on_paper10 0.7179528628291322\n",
      "mean_speed_on_paper13 mean_speed_on_paper10 0.7097234429474994\n",
      "mean_speed_on_paper13 gmrt_on_paper11 0.7255353852103744\n",
      "mean_speed_on_paper13 mean_speed_on_paper11 0.7258116357516301\n",
      "mean_speed_on_paper13 gmrt_on_paper13 0.9830356124624993\n",
      "paper_time13 paper_time11 0.7175107008845895\n",
      "pressure_mean13 pressure_mean10 0.7738978368058014\n",
      "pressure_mean13 pressure_mean11 0.7765653587547234\n",
      "total_time13 air_time13 0.913617156536313\n",
      "total_time13 paper_time13 0.8386001198080647\n",
      "gmrt_on_paper14 gmrt_in_air14 0.700201330502705\n",
      "max_x_extension14 gmrt_on_paper14 0.7268499020454573\n",
      "mean_acc_on_paper14 gmrt_on_paper14 0.71407941665278\n",
      "mean_gmrt14 gmrt_in_air14 0.9578981292682878\n",
      "mean_gmrt14 gmrt_on_paper14 0.8757012048023064\n",
      "mean_jerk_in_air14 mean_acc_in_air14 0.9989347645934284\n",
      "mean_jerk_on_paper14 mean_acc_on_paper14 0.8901771642596532\n",
      "mean_speed_in_air14 gmrt_in_air14 0.9515535350597243\n",
      "mean_speed_in_air14 gmrt_on_paper14 0.7177256436897342\n",
      "mean_speed_in_air14 mean_acc_in_air14 0.7068893199141496\n",
      "mean_speed_in_air14 mean_gmrt14 0.932180247783578\n",
      "mean_speed_on_paper14 gmrt_in_air14 0.7054784501336466\n",
      "mean_speed_on_paper14 gmrt_on_paper14 0.9683760469826841\n",
      "mean_speed_on_paper14 mean_acc_on_paper14 0.7433373261256438\n",
      "mean_speed_on_paper14 mean_gmrt14 0.8665528528978087\n",
      "mean_speed_on_paper14 mean_speed_in_air14 0.7072477636786519\n",
      "paper_time14 disp_index14 0.7563345490495192\n",
      "total_time14 air_time14 0.9997278497005098\n",
      "mean_acc_on_paper15 gmrt_on_paper15 0.7272829475007411\n",
      "mean_gmrt15 gmrt_in_air15 0.8123032232131473\n",
      "mean_gmrt15 gmrt_on_paper15 0.8399089014579089\n",
      "mean_jerk_in_air15 mean_acc_in_air15 0.9983580491114624\n",
      "mean_jerk_on_paper15 gmrt_on_paper15 0.7615597536296509\n",
      "mean_jerk_on_paper15 mean_acc_on_paper15 0.8870511724390245\n",
      "mean_speed_in_air15 gmrt_in_air15 0.9526048106929051\n",
      "mean_speed_in_air15 mean_acc_in_air15 0.7331572715657164\n",
      "mean_speed_in_air15 mean_gmrt15 0.7649170359050352\n",
      "mean_speed_in_air15 mean_jerk_in_air15 0.7208934040408865\n",
      "mean_speed_on_paper15 gmrt_on_paper15 0.9553217312728537\n",
      "mean_speed_on_paper15 mean_acc_on_paper15 0.7521109459398406\n",
      "mean_speed_on_paper15 mean_gmrt15 0.8025603577352667\n",
      "mean_speed_on_paper15 mean_jerk_on_paper15 0.7697560385912604\n",
      "paper_time15 disp_index15 0.7396480828964189\n",
      "total_time15 air_time15 0.9957945423872139\n",
      "max_x_extension16 disp_index16 0.919358894034813\n",
      "max_y_extension16 disp_index16 0.8449187252620953\n",
      "max_y_extension16 max_x_extension16 0.8278233721589544\n",
      "mean_gmrt16 gmrt_in_air16 0.9032296933589136\n",
      "mean_jerk_in_air16 mean_acc_in_air16 0.998579693704551\n",
      "mean_jerk_on_paper16 mean_acc_on_paper16 0.8532396185091364\n",
      "mean_speed_in_air16 gmrt_in_air16 0.8247604063003046\n",
      "mean_speed_in_air16 mean_acc_in_air16 0.723326935084891\n",
      "mean_speed_in_air16 mean_gmrt16 0.7504782792051019\n",
      "mean_speed_in_air16 mean_jerk_in_air16 0.7214839314077803\n",
      "mean_speed_on_paper16 gmrt_on_paper16 0.9185124770095879\n",
      "num_of_pendown16 disp_index16 0.791532455172692\n",
      "num_of_pendown16 max_x_extension16 0.7656827418060644\n",
      "num_of_pendown16 max_y_extension16 0.7511617929872755\n",
      "paper_time16 disp_index16 0.8030236479313414\n",
      "paper_time16 num_of_pendown16 0.7285954210437521\n",
      "pressure_mean16 pressure_mean15 0.7588282311658706\n",
      "total_time16 air_time16 0.974062870382293\n",
      "total_time16 paper_time16 0.7507744021850536\n",
      "max_y_extension17 max_x_extension17 0.8363437674176772\n",
      "mean_acc_in_air17 gmrt_in_air17 0.9202338515358321\n",
      "mean_gmrt17 gmrt_in_air17 0.9619857110545931\n",
      "mean_gmrt17 gmrt_on_paper17 0.802489275887135\n",
      "mean_gmrt17 mean_acc_in_air17 0.8811916124902444\n",
      "mean_jerk_in_air17 gmrt_in_air17 0.9189567392943206\n",
      "mean_jerk_in_air17 mean_acc_in_air17 0.9998330154135047\n",
      "mean_jerk_in_air17 mean_gmrt17 0.8800170627050985\n",
      "mean_jerk_on_paper17 mean_acc_on_paper17 0.8900393113831229\n",
      "mean_speed_in_air17 gmrt_in_air17 0.9907724143561254\n",
      "mean_speed_in_air17 mean_acc_in_air17 0.9240063796314827\n",
      "mean_speed_in_air17 mean_gmrt17 0.9656674907698352\n",
      "mean_speed_in_air17 mean_jerk_in_air17 0.9222946439275675\n",
      "mean_speed_on_paper17 gmrt_on_paper17 0.9492235948457938\n",
      "mean_speed_on_paper17 mean_gmrt17 0.7723271998523263\n",
      "paper_time17 paper_time10 0.7408619581631495\n",
      "paper_time17 paper_time11 0.8152164031216409\n",
      "total_time17 air_time17 0.9917849195631061\n",
      "air_time18 air_time11 0.7997437118837457\n",
      "air_time18 total_time11 0.8047050587674118\n",
      "disp_index18 air_time18 0.8082254247944143\n",
      "max_x_extension18 disp_index18 0.8111179203948617\n",
      "max_y_extension18 max_x_extension18 0.7696471006832517\n",
      "mean_acc_on_paper18 gmrt_on_paper18 0.7270876576297327\n",
      "mean_gmrt18 gmrt_in_air18 0.9384602850367396\n",
      "mean_gmrt18 gmrt_on_paper18 0.7167818488547404\n",
      "mean_jerk_in_air18 mean_acc_in_air18 0.9962632127779\n",
      "mean_jerk_on_paper18 mean_acc_on_paper18 0.8425436349429759\n",
      "mean_speed_in_air18 gmrt_in_air18 0.9254099506614561\n",
      "mean_speed_in_air18 mean_gmrt18 0.8783873606089921\n",
      "mean_speed_on_paper18 gmrt_on_paper18 0.9600138981131766\n",
      "mean_speed_on_paper18 mean_acc_on_paper18 0.7550782837039519\n",
      "mean_speed_on_paper18 mean_gmrt18 0.7516177553285079\n",
      "num_of_pendown18 air_time11 0.8130672043774266\n",
      "num_of_pendown18 total_time11 0.8102306210512457\n",
      "num_of_pendown18 air_time18 0.924399216782276\n",
      "num_of_pendown18 disp_index18 0.8948789153429426\n",
      "num_of_pendown18 max_x_extension18 0.724847417926467\n",
      "paper_time18 total_time11 0.7006138110488265\n",
      "paper_time18 air_time18 0.8481030902370615\n",
      "paper_time18 disp_index18 0.8772127850575188\n",
      "paper_time18 num_of_pendown18 0.88679715628178\n",
      "total_time18 air_time11 0.794769918254193\n",
      "total_time18 total_time11 0.7990827576703808\n",
      "total_time18 air_time18 0.985891070157726\n",
      "total_time18 disp_index18 0.8574026524373319\n",
      "total_time18 num_of_pendown18 0.9438378390534433\n",
      "total_time18 paper_time18 0.9248247431240106\n",
      "mean_acc_in_air19 gmrt_in_air19 0.741344981401771\n",
      "mean_gmrt19 gmrt_in_air19 0.875683623891896\n",
      "mean_gmrt19 gmrt_on_paper19 0.8521125144448735\n",
      "mean_jerk_in_air19 gmrt_in_air19 0.7312128715080873\n",
      "mean_jerk_in_air19 mean_acc_in_air19 0.9986653855166324\n",
      "mean_jerk_on_paper19 mean_acc_on_paper19 0.8545768909852675\n",
      "mean_speed_in_air19 gmrt_in_air19 0.9863713509013674\n",
      "mean_speed_in_air19 mean_acc_in_air19 0.729755134933401\n",
      "mean_speed_in_air19 mean_gmrt19 0.8412534460551159\n",
      "mean_speed_in_air19 mean_jerk_in_air19 0.716693523667489\n",
      "mean_speed_on_paper19 gmrt_on_paper19 0.9639957370421319\n",
      "mean_speed_on_paper19 mean_gmrt19 0.8262293746076587\n",
      "total_time19 air_time19 0.9999921286026404\n",
      "mean_gmrt20 gmrt_in_air20 0.9231859822745909\n",
      "mean_gmrt20 gmrt_on_paper20 0.7533444785964853\n",
      "mean_jerk_in_air20 mean_acc_in_air20 0.996748567505556\n",
      "mean_jerk_on_paper20 mean_acc_on_paper20 0.8736576856660733\n",
      "mean_speed_in_air20 gmrt_in_air20 0.9017743926916693\n",
      "mean_speed_in_air20 mean_gmrt20 0.8828804873164847\n",
      "mean_speed_on_paper20 gmrt_on_paper20 0.9737508893275065\n",
      "mean_speed_on_paper20 mean_gmrt20 0.7755476140988654\n",
      "paper_time20 disp_index20 0.7752123534243323\n",
      "total_time20 air_time20 0.9780596161659434\n",
      "max_y_extension21 max_x_extension21 0.8619266512310996\n",
      "mean_acc_on_paper21 gmrt_on_paper21 -0.7255253912955095\n",
      "mean_gmrt21 gmrt_in_air21 0.9889679718139979\n",
      "mean_jerk_in_air21 mean_acc_in_air21 0.999763863773323\n",
      "mean_jerk_on_paper21 mean_acc_on_paper21 0.9057029452398685\n",
      "mean_speed_in_air21 mean_acc_in_air21 0.9363751906209368\n",
      "mean_speed_in_air21 mean_jerk_in_air21 0.9340349633665692\n",
      "mean_speed_on_paper21 gmrt_on_paper21 0.982039884028427\n",
      "mean_speed_on_paper21 mean_acc_on_paper21 -0.7363601183101218\n",
      "num_of_pendown21 air_time21 0.8154245383005673\n",
      "paper_time21 disp_index21 0.791303845015156\n",
      "paper_time21 num_of_pendown21 0.7036497275165328\n",
      "total_time21 air_time21 0.8444087703528969\n",
      "total_time21 num_of_pendown21 0.8298890685245909\n",
      "total_time21 paper_time21 0.9375782579752749\n",
      "mean_gmrt22 gmrt_in_air22 0.9036489075785891\n",
      "mean_gmrt22 gmrt_on_paper22 0.9028640737173307\n",
      "mean_jerk_in_air22 mean_acc_in_air22 0.992637159112555\n",
      "mean_jerk_on_paper22 mean_acc_on_paper22 0.8690122313015357\n",
      "mean_speed_in_air22 gmrt_in_air22 0.9614806442299514\n",
      "mean_speed_in_air22 mean_gmrt22 0.8800844026925979\n",
      "mean_speed_on_paper22 gmrt_on_paper22 0.9782256522395726\n",
      "mean_speed_on_paper22 mean_gmrt22 0.8846981780975995\n",
      "pressure_mean22 pressure_mean21 0.7086223050194601\n",
      "total_time22 air_time22 0.9994122697463724\n",
      "mean_gmrt23 gmrt_in_air23 0.8745886710746323\n",
      "mean_gmrt23 gmrt_on_paper23 0.9196471907896657\n",
      "mean_jerk_in_air23 mean_acc_in_air23 0.99172435722097\n",
      "mean_jerk_on_paper23 mean_acc_on_paper23 0.8506265829620877\n",
      "mean_speed_in_air23 gmrt_in_air23 0.9742147557333377\n",
      "mean_speed_in_air23 mean_gmrt23 0.8311959602634289\n",
      "mean_speed_on_paper23 gmrt_on_paper23 0.9718787914089569\n",
      "mean_speed_on_paper23 mean_acc_on_paper23 0.7195262316582394\n",
      "mean_speed_on_paper23 mean_gmrt23 0.9079739583882791\n",
      "total_time23 air_time23 0.9883428438199189\n",
      "gmrt_on_paper24 gmrt_in_air24 0.7757606867930197\n",
      "max_y_extension24 max_x_extension24 0.9328404534691415\n",
      "mean_acc_in_air24 gmrt_in_air24 0.8076894403414675\n",
      "mean_gmrt24 gmrt_in_air24 0.9301783154690465\n",
      "mean_gmrt24 gmrt_on_paper24 0.9532509260912316\n",
      "mean_gmrt24 mean_acc_in_air24 0.7272393495061328\n",
      "mean_jerk_in_air24 gmrt_in_air24 0.8027145007804766\n",
      "mean_jerk_in_air24 mean_acc_in_air24 0.9993196000455228\n",
      "mean_jerk_in_air24 mean_gmrt24 0.7243294676619343\n",
      "mean_jerk_on_paper24 mean_acc_on_paper24 0.8930457925673587\n",
      "mean_speed_in_air24 gmrt_in_air24 0.983762874771302\n",
      "mean_speed_in_air24 gmrt_on_paper24 0.7317766754844555\n",
      "mean_speed_in_air24 mean_acc_in_air24 0.8207026841512941\n",
      "mean_speed_in_air24 mean_gmrt24 0.896814595097831\n",
      "mean_speed_in_air24 mean_jerk_in_air24 0.8139870609417575\n",
      "mean_speed_on_paper24 gmrt_on_paper24 0.9230569991010608\n",
      "mean_speed_on_paper24 mean_gmrt24 0.8717186553682469\n",
      "total_time24 air_time24 0.9872391390788607\n",
      "mean_acc_in_air25 gmrt_in_air25 0.8729653721399233\n",
      "mean_acc_on_paper25 mean_acc_on_paper20 0.7154987399176398\n",
      "mean_gmrt25 mean_speed_on_paper20 0.7192030041632195\n",
      "mean_gmrt25 gmrt_in_air25 0.9493967593170286\n",
      "mean_gmrt25 gmrt_on_paper25 0.8791441770063365\n",
      "mean_gmrt25 mean_acc_in_air25 0.8394324047521462\n",
      "mean_jerk_in_air25 gmrt_in_air25 0.8715631139646993\n",
      "mean_jerk_in_air25 mean_acc_in_air25 0.9994267413841924\n",
      "mean_jerk_in_air25 mean_gmrt25 0.8388438283219775\n",
      "mean_jerk_on_paper25 mean_acc_on_paper25 0.8916263344131772\n",
      "mean_speed_in_air25 gmrt_in_air25 0.9849262660168722\n",
      "mean_speed_in_air25 mean_acc_in_air25 0.8691020803552518\n",
      "mean_speed_in_air25 mean_gmrt25 0.9436792033536586\n",
      "mean_speed_in_air25 mean_jerk_in_air25 0.8647708404177245\n",
      "mean_speed_on_paper25 mean_speed_on_paper20 0.7244105838311753\n",
      "mean_speed_on_paper25 gmrt_in_air25 0.7085099766008365\n",
      "mean_speed_on_paper25 gmrt_on_paper25 0.9646242688613376\n",
      "mean_speed_on_paper25 mean_gmrt25 0.879284756294905\n",
      "mean_speed_on_paper25 mean_speed_in_air25 0.7187056712697033\n",
      "paper_time25 disp_index25 0.7034937238667344\n",
      "pressure_mean25 pressure_mean20 0.7944015153759315\n",
      "total_time25 air_time25 0.9992938410170538\n"
     ]
    }
   ],
   "source": [
    "corr_matrix = X.corr()\n",
    "\n",
    "for i in range(len(corr_matrix.columns)):\n",
    "    for j in range(i):\n",
    "\n",
    "        # Print variables with high correlation\n",
    "        if abs(corr_matrix.iloc[i, j]) > 0.7:\n",
    "            print(corr_matrix.columns[i], corr_matrix.columns[j], corr_matrix.iloc[i, j])"
   ]
  },
  {
   "cell_type": "code",
   "execution_count": 144,
   "metadata": {},
   "outputs": [
    {
     "data": {
      "text/plain": [
       "(174, 234)"
      ]
     },
     "execution_count": 144,
     "metadata": {},
     "output_type": "execute_result"
    }
   ],
   "source": [
    "# Calculate correlation matrix\n",
    "correlation_matrix = filtered_X.corr()\n",
    "\n",
    "# Set a correlation threshold (experiment with different values)\n",
    "correlation_threshold = 0.80\n",
    "\n",
    "# Identify highly correlated pairs\n",
    "highly_correlated_pairs = np.where(np.abs(correlation_matrix) > correlation_threshold)\n",
    "\n",
    "# Create a set to keep track of features to remove\n",
    "features_to_remove = set()\n",
    "\n",
    "# Loop through the pairs and decide which features to remove\n",
    "for feature1, feature2 in zip(*highly_correlated_pairs):\n",
    "    if feature1 != feature2 and feature1 not in features_to_remove:\n",
    "        features_to_remove.add(feature2)\n",
    "\n",
    "# Convert indices to column labels\n",
    "columns_to_remove = [filtered_X.columns[idx] for idx in features_to_remove]\n",
    "\n",
    "# Create a new DataFrame without highly correlated features\n",
    "df_filtered = filtered_X.drop(columns=columns_to_remove)\n",
    "df_filtered.shape"
   ]
  },
  {
   "cell_type": "markdown",
   "metadata": {},
   "source": [
    "## PCA filtering"
   ]
  },
  {
   "cell_type": "code",
   "execution_count": 145,
   "metadata": {},
   "outputs": [
    {
     "data": {
      "text/plain": [
       "(174, 54)"
      ]
     },
     "execution_count": 145,
     "metadata": {},
     "output_type": "execute_result"
    }
   ],
   "source": [
    "from sklearn.preprocessing import StandardScaler\n",
    "from sklearn.decomposition import PCA\n",
    "\n",
    "original_columns = X.columns\n",
    "\n",
    "# Standardize the data\n",
    "scaler = StandardScaler()\n",
    "X_scaled = scaler.fit_transform(X)\n",
    "\n",
    "# Perform PCA\n",
    "num_components = 0.80 # Retain 80% of explained variance\n",
    "pca = PCA(n_components=num_components)\n",
    "principal_components = pca.fit_transform(X_scaled)\n",
    "\n",
    "# Create a new DataFrame with the principal components\n",
    "pc_df = pd.DataFrame(data=principal_components, columns=[f'PC{i+1}' for i in range(pca.n_components_)])\n",
    "\n",
    "# Map original column names to PC column names\n",
    "pc_df.columns = [original_columns[i] for i in range(pca.n_components_)]\n",
    "\n",
    "pc_df.shape"
   ]
  },
  {
   "cell_type": "markdown",
   "metadata": {},
   "source": [
    "## Building the Decision Tree model"
   ]
  },
  {
   "cell_type": "markdown",
   "metadata": {},
   "source": [
    "### Model from the curated dataset"
   ]
  },
  {
   "cell_type": "code",
   "execution_count": 121,
   "metadata": {},
   "outputs": [
    {
     "name": "stdout",
     "output_type": "stream",
     "text": [
      "\n",
      "Dataset shape (174, 54)\n",
      "Mean accuracy: 0.75\n"
     ]
    }
   ],
   "source": [
    "from sklearn.model_selection import train_test_split\n",
    "# Separate features and target\n",
    "X = pc_df\n",
    "\n",
    "# Split the data into train and test sets\n",
    "test_size = 0.2  # Proportion of data to allocate to the test set\n",
    "random_state = 6  # Seed for reproducibility\n",
    "\n",
    "from sklearn import tree\n",
    "from sklearn.metrics import accuracy_score\n",
    "scores = []\n",
    "for random_state in range(1, 20):\n",
    "\n",
    "    X_train, X_test, y_train, y_test = train_test_split(X, y, test_size=test_size, random_state=random_state)\n",
    "\n",
    "    # Print the shapes of the resulting sets\n",
    "    # print(\"X_train shape:\", X_train.shape)\n",
    "    # print(\"X_test shape:\", X_test.shape)\n",
    "    # print(\"y_train shape:\", y_train.shape)\n",
    "    # print(\"y_test shape:\", y_test.shape)\n",
    "\n",
    "\n",
    "    clf = tree.DecisionTreeClassifier(random_state=random_state)\n",
    "    clf = clf.fit(X_train, y_train)\n",
    "    score = clf.score(X_test, y_test)\n",
    "    scores.append(score)\n",
    "\n",
    "print(\"\")\n",
    "print(f\"Dataset shape {X.shape}\")\n",
    "print(f\"Mean accuracy: {np.mean(scores):.2f}\")"
   ]
  },
  {
   "cell_type": "markdown",
   "metadata": {},
   "source": [
    "### Model from the original dataset"
   ]
  },
  {
   "cell_type": "code",
   "execution_count": 122,
   "metadata": {},
   "outputs": [
    {
     "name": "stdout",
     "output_type": "stream",
     "text": [
      "\n",
      "Dataset shape (174, 450)\n",
      "Mean accuracy: 0.74\n"
     ]
    }
   ],
   "source": [
    "X = original_X.copy()\n",
    "y = original_y.copy()\n",
    "X = X.drop(columns=['ID'])\n",
    "y['class'] = y['class'].map( {'H': 0, 'P': 1} ).astype(int)\n",
    "feature_names = X.columns.tolist()\n",
    "\n",
    "scores = []\n",
    "\n",
    "# Split the data into train and test sets\n",
    "test_size = 0.2  # Proportion of data to allocate to the test set\n",
    "for random_state in range(1, 20):\n",
    "    X_train, X_test, y_train, y_test = train_test_split(X, y, test_size=test_size, random_state=random_state)\n",
    "\n",
    "    clf = tree.DecisionTreeClassifier(random_state=random_state)\n",
    "    clf = clf.fit(X_train, y_train)\n",
    "    score = clf.score(X_test, y_test)\n",
    "    scores.append(score)\n",
    "\n",
    "print(\"\")\n",
    "print(f\"Dataset shape {X.shape}\")\n",
    "print(f\"Mean accuracy: {np.mean(scores):.2f}\")"
   ]
  },
  {
   "cell_type": "code",
   "execution_count": 104,
   "metadata": {},
   "outputs": [
    {
     "name": "stderr",
     "output_type": "stream",
     "text": [
      "/Users/eduardoduarte/miniconda3/envs/darwin/lib/python3.10/site-packages/sklearn/neural_network/_multilayer_perceptron.py:1124: DataConversionWarning: A column-vector y was passed when a 1d array was expected. Please change the shape of y to (n_samples, ), for example using ravel().\n",
      "  y = column_or_1d(y, warn=True)\n",
      "/Users/eduardoduarte/miniconda3/envs/darwin/lib/python3.10/site-packages/sklearn/neural_network/_multilayer_perceptron.py:546: ConvergenceWarning: lbfgs failed to converge (status=2):\n",
      "ABNORMAL: .\n",
      "\n",
      "Increase the number of iterations (max_iter) or scale the data as shown in:\n",
      "    https://scikit-learn.org/stable/modules/preprocessing.html\n",
      "  self.n_iter_ = _check_optimize_result(\"lbfgs\", opt_res, self.max_iter)\n"
     ]
    },
    {
     "data": {
      "text/plain": [
       "0.5714285714285714"
      ]
     },
     "execution_count": 104,
     "metadata": {},
     "output_type": "execute_result"
    }
   ],
   "source": [
    "from sklearn.neural_network import MLPClassifier\n",
    "\n",
    "X = original_X.copy()\n",
    "y = original_y.copy()\n",
    "X = X.drop(columns=['ID'])\n",
    "y['class'] = y['class'].map( {'H': 0, 'P': 1} ).astype(int)\n",
    "feature_names = X.columns.tolist()\n",
    "\n",
    "random_state = 42\n",
    "test_size = 0.2 \n",
    "\n",
    "X_train, X_test, y_train, y_test = train_test_split(X, y, test_size=test_size, random_state=random_state)\n",
    "\n",
    "clf = MLPClassifier(solver='lbfgs', alpha=1e-5,\n",
    "                    hidden_layer_sizes=(256, 450), random_state=random_state)\n",
    "\n",
    "clf.fit(X_train, y_train)\n",
    "clf.score(X_test, y_test)"
   ]
  },
  {
   "cell_type": "code",
   "execution_count": null,
   "metadata": {},
   "outputs": [
    {
     "name": "stdout",
     "output_type": "stream",
     "text": [
      "(174, 54)\n"
     ]
    },
    {
     "name": "stderr",
     "output_type": "stream",
     "text": [
      "/Users/eduardoduarte/miniconda3/envs/darwin/lib/python3.10/site-packages/sklearn/neural_network/_multilayer_perceptron.py:1124: DataConversionWarning: A column-vector y was passed when a 1d array was expected. Please change the shape of y to (n_samples, ), for example using ravel().\n",
      "  y = column_or_1d(y, warn=True)\n"
     ]
    },
    {
     "data": {
      "text/plain": [
       "0.9142857142857143"
      ]
     },
     "execution_count": 124,
     "metadata": {},
     "output_type": "execute_result"
    }
   ],
   "source": [
    "X = pc_df\n",
    "\n",
    "random_state = 42\n",
    "test_size = 0.2 \n",
    "\n",
    "X_train, X_test, y_train, y_test = train_test_split(X, y, test_size=test_size, random_state=random_state)\n",
    "\n",
    "clf = MLPClassifier(solver='lbfgs', alpha=1e-5,\n",
    "                    hidden_layer_sizes=(256, 54), random_state=random_state)\n",
    "\n",
    "clf.fit(X_train, y_train)\n",
    "clf.score(X_test, y_test)"
   ]
  },
  {
   "cell_type": "code",
   "execution_count": 147,
   "metadata": {},
   "outputs": [
    {
     "data": {
      "text/plain": [
       "['air_time1',\n",
       " 'air_time1',\n",
       " 'air_time1',\n",
       " 'air_time1',\n",
       " 'air_time1',\n",
       " 'air_time1',\n",
       " 'air_time1',\n",
       " 'air_time1',\n",
       " 'air_time1',\n",
       " 'air_time1',\n",
       " 'air_time1',\n",
       " 'air_time1',\n",
       " 'air_time1',\n",
       " 'air_time1',\n",
       " 'air_time1',\n",
       " 'air_time1',\n",
       " 'air_time1',\n",
       " 'air_time1',\n",
       " 'air_time1',\n",
       " 'air_time1']"
      ]
     },
     "execution_count": 147,
     "metadata": {},
     "output_type": "execute_result"
    }
   ],
   "source": [
    "feature_names = X.columns.to_list()\n",
    "\n",
    "def get_root_node(dt, feature_names):\n",
    "    feature_idx = dt.tree_.feature[0]\n",
    "    return feature_names[feature_idx]\n",
    "\n",
    "\n",
    "n_repeats = 20\n",
    "root_nodes = []\n",
    "\n",
    "# variando o seed do holdout, geramos conjuntos de treino e teste um pouco diferentes a cada iteração\n",
    "for split_random_state in range(0, n_repeats):\n",
    "  # Holdout com 20% de dados de teste\n",
    "  X_train, X_test, y_train, y_test = train_test_split(X, y, test_size=0.2, random_state=split_random_state)\n",
    "\n",
    "  # Treinamento da árvore usando os dados de treino\n",
    "  dt = tree.DecisionTreeClassifier(random_state=0)\n",
    "  dt.fit(X_train, y_train)\n",
    "\n",
    "  # Obtemos o atributo usado na raiz e o salvamos na lista\n",
    "  root_node = get_root_node(dt, feature_names)\n",
    "  root_nodes.append(root_node)\n",
    "\n",
    "root_nodes"
   ]
  },
  {
   "cell_type": "code",
   "execution_count": 145,
   "metadata": {},
   "outputs": [
    {
     "data": {
      "image/png": "[encoded data removed]",
      "text/plain": [
       "<Figure size 640x480 with 1 Axes>"
      ]
     },
     "metadata": {},
     "output_type": "display_data"
    }
   ],
   "source": [
    "tree.plot_tree(clf)\n",
    "plt.savefig('out.pdf')"
   ]
  }
 ],
 "metadata": {
  "kernelspec": {
   "display_name": "darwin",
   "language": "python",
   "name": "python3"
  },
  "language_info": {
   "codemirror_mode": {
    "name": "ipython",
    "version": 3
   },
   "file_extension": ".py",
   "mimetype": "text/x-python",
   "name": "python",
   "nbconvert_exporter": "python",
   "pygments_lexer": "ipython3",
   "version": "3.10.13"
  }
 },
 "nbformat": 4,
 "nbformat_minor": 2
}
